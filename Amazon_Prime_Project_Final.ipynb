{
 "cells": [
  {
   "cell_type": "code",
   "execution_count": null,
   "metadata": {
    "id": "I1apcow5dxii"
   },
   "outputs": [],
   "source": []
  },
  {
   "cell_type": "markdown",
   "metadata": {
    "id": "vncDsAP0Gaoa"
   },
   "source": [
    "# **Project Name**    - Amazon Prime Video - Exploratory Data Analysis\n",
    "\n"
   ]
  },
  {
   "cell_type": "markdown",
   "metadata": {
    "id": "beRrZCGUAJYm"
   },
   "source": [
    "##### **Project Type**    - EDA\n",
    "##### **Contribution**    - Individual"
   ]
  },
  {
   "cell_type": "markdown",
   "metadata": {
    "id": "FJNUwmbgGyua"
   },
   "source": [
    "# **Project Summary -** s\r\n",
    "\r\n",
    "### Introduction:\r\n",
    "This project focuses on performing exploratory data analysis (EDA) on a dataset that includes information about TV shows and movies available on Amazon Prime Video in the United States. The analysis aims to identify key content trends, production patterns, audience preferences, and distribution strategies. Two datasets were provided: `titles.csv`, which includes detailed metadata for each title, and `credits.csv`, which contains information about actors and directors.\r\n",
    "\r\n",
    "### Objectives:\r\n",
    "The main goals of this analysis were:\r\n",
    "\r\n",
    "1. **Content Diversity** – To determine what types of genres and show formats (TV shows vs. Movies) dominate Amazon Prime.\r\n",
    "2. **Regional Availability** – To understand which countries produce the most content for the platform.\r\n",
    "3. **Trends Over Time** – To study how the volume and type of content have changed over time.\r\n",
    "4. **IMDb Ratings and Popularity** – To evaluate how well Amazon Prime content is received based on IMDb scores and TMDB popularity.\r\n",
    "\r\n",
    "By analyzing this data, we can generate insights that could help in strategic content planning, localization, user engagement, and business decision-making for streaming platforms.\r\n",
    "\r\n",
    "### Tools and Libraries:\r\n",
    "We used the following Python libraries to perform the analysis:\r\n",
    "\r\n",
    "- `pandas` for data manipulation and cleaning\r\n",
    "- `numpy` for efficient numerical operations\r\n",
    "- `matplotlib` and `seaborn` for data visualization\r\n",
    "- `collections.Counter` to rank most common genres, countries, etc.\r\n",
    "\r\n",
    "### Data Cleaning:\r\n",
    "The datasets were inspected for missing values and inconsistencies. Missing numerical values such as IMDb score and runtime were filled using the median value of their respective columns, while missing categorical fields such as genres or countries were filled with \"Unknown.\" In addition, stringified list fields like genres and countries were parsed into readable formats for analysis.\r\n",
    "\r\n",
    "### Key Findings and Visualizations:\r\n",
    "\r\n",
    "- **Movies vs. TV Shows**: Movies dominate the platform’s catalog, which aligns with user demand and production ease.\r\n",
    "  \r\n",
    "- **Genre Distribution**: Drama, Comedy, and Action were found to be the most common genres. This suggests that Amazon invests heavily in emotionally engaging and entertaining content.\r\n",
    "\r\n",
    "- **Country-wise Production**: The United States produces the majority of the content, followed by India, the United Kingdom, and Canada. This reflects Amazon's international expansion and focus on regional content.\r\n",
    "\r\n",
    "- **Release Trends Over Time**: There is a sharp increase in content production after 2015, possibly due to Amazon’s aggressive push into original content creation and global expansion.\r\n",
    "\r\n",
    "- **IMDb Score Distribution**: Most titles have average IMDb scores between 5 and 7. Very few titles achieve extreme ratings, suggesting moderate user reception overall.\r\n",
    "\r\n",
    "- **TMDB Popularity**: The TMDB popularity score was highly skewed, with a small number of titles having extremely high values. This was addressed using a 95th percentile clipping to visualize the data more effectively.\r\n",
    "\r\n",
    "- **Top Contributors**: Actors and directors with the most appearances were identified, offering insight into frequently collaborated personnel in Prime Video’s productions.\r\n",
    "\r\n",
    "### Conclusion:\r\n",
    "This EDA project revealed insightful patterns about Amazon Prime’s content library. The findings can be used to guide content acquisition, marketing strategies, and user targeting. Amazon seems to favor movies and mainstream genres like drama and comedy. There's strong international content representation, particularly from India and the UK. Also, while Amazon has a growing catalog, viewer ratings suggest room for improvement in quality or promotion.\r\n",
    "\r\n",
    "The methodology and visualizations used in this project can be extended further into predictive analytics, sentiment analysis on content descriptions, or recommendation system development.\r\n",
    "\r\n"
   ]
  },
  {
   "cell_type": "markdown",
   "metadata": {
    "id": "F6v_1wHtG2nS"
   },
   "source": []
  },
  {
   "cell_type": "markdown",
   "metadata": {
    "id": "w6K7xa23Elo4"
   },
   "source": [
    "# **GitHub Link -**"
   ]
  },
  {
   "cell_type": "markdown",
   "metadata": {
    "id": "h1o69JH3Eqqn"
   },
   "source": [
    "GitHub Link: https://github.com/Chauhan0512/Amazon-Prime-EDA-Project\n"
   ]
  },
  {
   "cell_type": "code",
   "execution_count": 5,
   "metadata": {},
   "outputs": [],
   "source": [
    "#Google Colab Link: https://colab.research.google.com/github/Chauhan0512/Amazon-Prime-EDA-Project/blob/main/Amazon_Prime_Project_Final.ipynb"
   ]
  },
  {
   "cell_type": "markdown",
   "metadata": {
    "id": "yQaldy8SH6Dl"
   },
   "source": [
    "# **Problem Statement**\n"
   ]
  },
  {
   "cell_type": "markdown",
   "metadata": {
    "id": "DpeJGUA3kjGy",
    "jp-MarkdownHeadingCollapsed": true
   },
   "source": [
    "## This project focuses on analyzing the content available on **Amazon Prime Video**. The goal is to extract insights into:\n",
    "- **Content Diversity**: What genres dominate?\n",
    "- **Regional Availability**: Which countries produce the most titles?\n",
    "- **Trends Over Time**: How has Amazon’s content library evolved?\n",
    "- **IMDb Ratings & Popularity**: What are the highest-rated and most popular titles?\n",
    "\n",
    "By studying these trends, we can help businesses understand content strategy, user engagement, and investment directions."
   ]
  },
  {
   "cell_type": "markdown",
   "metadata": {
    "id": "PH-0ReGfmX4f"
   },
   "source": [
    "#### **Define Your Business Objective?**"
   ]
  },
  {
   "cell_type": "markdown",
   "metadata": {
    "id": "PhDvGCAqmjP1"
   },
   "source": [
    "## \r\n",
    "In the current digital era, streaming services like Amazon Prime Video operate in a highly competitive market. The platform must constantly evolve to retain subscribers, attract new audiences, and invest wisely in content production and licensing.\r\n",
    "\r\n",
    "The **primary business objective** of this project is to uncover data-driven insights from Amazon Prime Video’s content library that can help in:\r\n",
    "\r\n",
    "- **Strategizing content investment**: Identifying which genres and content types perform well can guide future production and acquisition decisions.\r\n",
    "- **Improving user engagement**: Understanding viewer preferences based on popularity and ratings helps tailor recommendations and marketing campaigns.\r\n",
    "- **Enhancing regional expansion**: Analyzing content by country of origin reveals strengths and opportunities in regional markets.\r\n",
    "- **Tracking content evolution**: Monitoring how content volume and diversity have changed over the years provides strategic perspective on growth and audience adaptation.\r\n",
    "\r\n",
    "By using exploratory data analysis (EDA), the goal is to support business teams—such as content acquisition, marketing, and analytics—with actionable insights that improve decision-making, optimize content strategy, and enhance user satisfaction on the platform.\r\n"
   ]
  },
  {
   "cell_type": "markdown",
   "metadata": {
    "id": "mDgbUHAGgjLW"
   },
   "source": [
    "# **General Guidelines** : -  "
   ]
  },
  {
   "cell_type": "markdown",
   "metadata": {
    "id": "ZrxVaUj-hHfC"
   },
   "source": [
    "1.   Well-structured, formatted, and commented code is required.\n",
    "2.   Exception Handling, Production Grade Code & Deployment Ready Code will be a plus. Those students will be awarded some additional credits.\n",
    "     \n",
    "     The additional credits will have advantages over other students during Star Student selection.\n",
    "       \n",
    "             [ Note: - Deployment Ready Code is defined as, the whole .ipynb notebook should be executable in one go\n",
    "                       without a single error logged. ]\n",
    "\n",
    "3.   Each and every logic should have proper comments.\n",
    "4. You may add as many number of charts you want. Make Sure for each and every chart the following format should be answered.\n",
    "        \n",
    "\n",
    "```\n",
    "# Chart visualization code\n",
    "```\n",
    "            \n",
    "\n",
    "*   Why did you pick the specific chart?\n",
    "*   What is/are the insight(s) found from the chart?\n",
    "* Will the gained insights help creating a positive business impact?\n",
    "Are there any insights that lead to negative growth? Justify with specific reason.\n",
    "\n",
    "5. You have to create at least 20 logical & meaningful charts having important insights.\n",
    "\n",
    "\n",
    "[ Hints : - Do the Vizualization in  a structured way while following \"UBM\" Rule.\n",
    "\n",
    "U - Univariate Analysis,\n",
    "\n",
    "B - Bivariate Analysis (Numerical - Categorical, Numerical - Numerical, Categorical - Categorical)\n",
    "\n",
    "M - Multivariate Analysis\n",
    " ]\n",
    "\n",
    "\n",
    "\n"
   ]
  },
  {
   "cell_type": "markdown",
   "metadata": {
    "id": "O_i_v8NEhb9l"
   },
   "source": [
    "# ***Let's Begin !***"
   ]
  },
  {
   "cell_type": "markdown",
   "metadata": {
    "id": "HhfV-JJviCcP"
   },
   "source": [
    "## ***1. Know Your Data***"
   ]
  },
  {
   "cell_type": "markdown",
   "metadata": {
    "id": "Y3lxredqlCYt"
   },
   "source": [
    "### Import Libraries"
   ]
  },
  {
   "cell_type": "code",
   "execution_count": 2,
   "metadata": {
    "id": "M8Vqi-pPk-HR"
   },
   "outputs": [],
   "source": [
    "import pandas as pd\n",
    "import numpy as np\n",
    "import matplotlib.pyplot as plt\n",
    "import seaborn as sns\n",
    "from collections import Counter\n",
    "\n",
    "sns.set(style='whitegrid')\n",
    "plt.rcParams['figure.figsize'] = (12, 6)"
   ]
  },
  {
   "cell_type": "markdown",
   "metadata": {
    "id": "3RnN4peoiCZX"
   },
   "source": [
    "### Dataset Loading"
   ]
  },
  {
   "cell_type": "code",
   "execution_count": 3,
   "metadata": {
    "id": "4CkvbW_SlZ_R"
   },
   "outputs": [],
   "source": [
    "titles = pd.read_csv('titles.csv')\n",
    "credits = pd.read_csv('credits.csv')"
   ]
  },
  {
   "cell_type": "markdown",
   "metadata": {
    "id": "x71ZqKXriCWQ"
   },
   "source": [
    "### Dataset First View"
   ]
  },
  {
   "cell_type": "code",
   "execution_count": 4,
   "metadata": {
    "id": "LWNFOSvLl09H"
   },
   "outputs": [
    {
     "data": {
      "text/html": [
       "<div>\n",
       "<style scoped>\n",
       "    .dataframe tbody tr th:only-of-type {\n",
       "        vertical-align: middle;\n",
       "    }\n",
       "\n",
       "    .dataframe tbody tr th {\n",
       "        vertical-align: top;\n",
       "    }\n",
       "\n",
       "    .dataframe thead th {\n",
       "        text-align: right;\n",
       "    }\n",
       "</style>\n",
       "<table border=\"1\" class=\"dataframe\">\n",
       "  <thead>\n",
       "    <tr style=\"text-align: right;\">\n",
       "      <th></th>\n",
       "      <th>id</th>\n",
       "      <th>title</th>\n",
       "      <th>type</th>\n",
       "      <th>description</th>\n",
       "      <th>release_year</th>\n",
       "      <th>age_certification</th>\n",
       "      <th>runtime</th>\n",
       "      <th>genres</th>\n",
       "      <th>production_countries</th>\n",
       "      <th>seasons</th>\n",
       "      <th>imdb_id</th>\n",
       "      <th>imdb_score</th>\n",
       "      <th>imdb_votes</th>\n",
       "      <th>tmdb_popularity</th>\n",
       "      <th>tmdb_score</th>\n",
       "    </tr>\n",
       "  </thead>\n",
       "  <tbody>\n",
       "    <tr>\n",
       "      <th>0</th>\n",
       "      <td>ts20945</td>\n",
       "      <td>The Three Stooges</td>\n",
       "      <td>SHOW</td>\n",
       "      <td>The Three Stooges were an American vaudeville ...</td>\n",
       "      <td>1934</td>\n",
       "      <td>TV-PG</td>\n",
       "      <td>19</td>\n",
       "      <td>['comedy', 'family', 'animation', 'action', 'f...</td>\n",
       "      <td>['US']</td>\n",
       "      <td>26.0</td>\n",
       "      <td>tt0850645</td>\n",
       "      <td>8.6</td>\n",
       "      <td>1092.0</td>\n",
       "      <td>15.424</td>\n",
       "      <td>7.6</td>\n",
       "    </tr>\n",
       "    <tr>\n",
       "      <th>1</th>\n",
       "      <td>tm19248</td>\n",
       "      <td>The General</td>\n",
       "      <td>MOVIE</td>\n",
       "      <td>During America’s Civil War, Union spies steal ...</td>\n",
       "      <td>1926</td>\n",
       "      <td>NaN</td>\n",
       "      <td>78</td>\n",
       "      <td>['action', 'drama', 'war', 'western', 'comedy'...</td>\n",
       "      <td>['US']</td>\n",
       "      <td>NaN</td>\n",
       "      <td>tt0017925</td>\n",
       "      <td>8.2</td>\n",
       "      <td>89766.0</td>\n",
       "      <td>8.647</td>\n",
       "      <td>8.0</td>\n",
       "    </tr>\n",
       "    <tr>\n",
       "      <th>2</th>\n",
       "      <td>tm82253</td>\n",
       "      <td>The Best Years of Our Lives</td>\n",
       "      <td>MOVIE</td>\n",
       "      <td>It's the hope that sustains the spirit of ever...</td>\n",
       "      <td>1946</td>\n",
       "      <td>NaN</td>\n",
       "      <td>171</td>\n",
       "      <td>['romance', 'war', 'drama']</td>\n",
       "      <td>['US']</td>\n",
       "      <td>NaN</td>\n",
       "      <td>tt0036868</td>\n",
       "      <td>8.1</td>\n",
       "      <td>63026.0</td>\n",
       "      <td>8.435</td>\n",
       "      <td>7.8</td>\n",
       "    </tr>\n",
       "    <tr>\n",
       "      <th>3</th>\n",
       "      <td>tm83884</td>\n",
       "      <td>His Girl Friday</td>\n",
       "      <td>MOVIE</td>\n",
       "      <td>Hildy, the journalist former wife of newspaper...</td>\n",
       "      <td>1940</td>\n",
       "      <td>NaN</td>\n",
       "      <td>92</td>\n",
       "      <td>['comedy', 'drama', 'romance']</td>\n",
       "      <td>['US']</td>\n",
       "      <td>NaN</td>\n",
       "      <td>tt0032599</td>\n",
       "      <td>7.8</td>\n",
       "      <td>57835.0</td>\n",
       "      <td>11.270</td>\n",
       "      <td>7.4</td>\n",
       "    </tr>\n",
       "    <tr>\n",
       "      <th>4</th>\n",
       "      <td>tm56584</td>\n",
       "      <td>In a Lonely Place</td>\n",
       "      <td>MOVIE</td>\n",
       "      <td>An aspiring actress begins to suspect that her...</td>\n",
       "      <td>1950</td>\n",
       "      <td>NaN</td>\n",
       "      <td>94</td>\n",
       "      <td>['thriller', 'drama', 'romance']</td>\n",
       "      <td>['US']</td>\n",
       "      <td>NaN</td>\n",
       "      <td>tt0042593</td>\n",
       "      <td>7.9</td>\n",
       "      <td>30924.0</td>\n",
       "      <td>8.273</td>\n",
       "      <td>7.6</td>\n",
       "    </tr>\n",
       "  </tbody>\n",
       "</table>\n",
       "</div>"
      ],
      "text/plain": [
       "        id                        title   type  \\\n",
       "0  ts20945            The Three Stooges   SHOW   \n",
       "1  tm19248                  The General  MOVIE   \n",
       "2  tm82253  The Best Years of Our Lives  MOVIE   \n",
       "3  tm83884              His Girl Friday  MOVIE   \n",
       "4  tm56584            In a Lonely Place  MOVIE   \n",
       "\n",
       "                                         description  release_year  \\\n",
       "0  The Three Stooges were an American vaudeville ...          1934   \n",
       "1  During America’s Civil War, Union spies steal ...          1926   \n",
       "2  It's the hope that sustains the spirit of ever...          1946   \n",
       "3  Hildy, the journalist former wife of newspaper...          1940   \n",
       "4  An aspiring actress begins to suspect that her...          1950   \n",
       "\n",
       "  age_certification  runtime  \\\n",
       "0             TV-PG       19   \n",
       "1               NaN       78   \n",
       "2               NaN      171   \n",
       "3               NaN       92   \n",
       "4               NaN       94   \n",
       "\n",
       "                                              genres production_countries  \\\n",
       "0  ['comedy', 'family', 'animation', 'action', 'f...               ['US']   \n",
       "1  ['action', 'drama', 'war', 'western', 'comedy'...               ['US']   \n",
       "2                        ['romance', 'war', 'drama']               ['US']   \n",
       "3                     ['comedy', 'drama', 'romance']               ['US']   \n",
       "4                   ['thriller', 'drama', 'romance']               ['US']   \n",
       "\n",
       "   seasons    imdb_id  imdb_score  imdb_votes  tmdb_popularity  tmdb_score  \n",
       "0     26.0  tt0850645         8.6      1092.0           15.424         7.6  \n",
       "1      NaN  tt0017925         8.2     89766.0            8.647         8.0  \n",
       "2      NaN  tt0036868         8.1     63026.0            8.435         7.8  \n",
       "3      NaN  tt0032599         7.8     57835.0           11.270         7.4  \n",
       "4      NaN  tt0042593         7.9     30924.0            8.273         7.6  "
      ]
     },
     "execution_count": 4,
     "metadata": {},
     "output_type": "execute_result"
    }
   ],
   "source": [
    "titles.head()"
   ]
  },
  {
   "cell_type": "markdown",
   "metadata": {
    "id": "7hBIi_osiCS2"
   },
   "source": [
    "### Dataset Rows & Columns count"
   ]
  },
  {
   "cell_type": "code",
   "execution_count": 5,
   "metadata": {
    "id": "Kllu7SJgmLij"
   },
   "outputs": [
    {
     "name": "stdout",
     "output_type": "stream",
     "text": [
      "Titles Dataset Shape: (9871, 15)\n",
      "Credits Dataset Shape: (124235, 5)\n"
     ]
    }
   ],
   "source": [
    "print(\"Titles Dataset Shape:\", titles.shape)\n",
    "print(\"Credits Dataset Shape:\", credits.shape)"
   ]
  },
  {
   "cell_type": "markdown",
   "metadata": {
    "id": "JlHwYmJAmNHm"
   },
   "source": [
    "### Dataset Information"
   ]
  },
  {
   "cell_type": "code",
   "execution_count": 6,
   "metadata": {
    "id": "e9hRXRi6meOf"
   },
   "outputs": [
    {
     "name": "stdout",
     "output_type": "stream",
     "text": [
      "Titles Dataset Info:\n",
      "\n",
      "<class 'pandas.core.frame.DataFrame'>\n",
      "RangeIndex: 9871 entries, 0 to 9870\n",
      "Data columns (total 15 columns):\n",
      " #   Column                Non-Null Count  Dtype  \n",
      "---  ------                --------------  -----  \n",
      " 0   id                    9871 non-null   object \n",
      " 1   title                 9871 non-null   object \n",
      " 2   type                  9871 non-null   object \n",
      " 3   description           9752 non-null   object \n",
      " 4   release_year          9871 non-null   int64  \n",
      " 5   age_certification     3384 non-null   object \n",
      " 6   runtime               9871 non-null   int64  \n",
      " 7   genres                9871 non-null   object \n",
      " 8   production_countries  9871 non-null   object \n",
      " 9   seasons               1357 non-null   float64\n",
      " 10  imdb_id               9204 non-null   object \n",
      " 11  imdb_score            8850 non-null   float64\n",
      " 12  imdb_votes            8840 non-null   float64\n",
      " 13  tmdb_popularity       9324 non-null   float64\n",
      " 14  tmdb_score            7789 non-null   float64\n",
      "dtypes: float64(5), int64(2), object(8)\n",
      "memory usage: 1.1+ MB\n",
      "\n",
      "Credits Dataset Info:\n",
      "\n",
      "<class 'pandas.core.frame.DataFrame'>\n",
      "RangeIndex: 124235 entries, 0 to 124234\n",
      "Data columns (total 5 columns):\n",
      " #   Column     Non-Null Count   Dtype \n",
      "---  ------     --------------   ----- \n",
      " 0   person_id  124235 non-null  int64 \n",
      " 1   id         124235 non-null  object\n",
      " 2   name       124235 non-null  object\n",
      " 3   character  107948 non-null  object\n",
      " 4   role       124235 non-null  object\n",
      "dtypes: int64(1), object(4)\n",
      "memory usage: 4.7+ MB\n"
     ]
    }
   ],
   "source": [
    "print(\"Titles Dataset Info:\\n\")\n",
    "titles.info()\n",
    "\n",
    "print(\"\\nCredits Dataset Info:\\n\")\n",
    "credits.info()"
   ]
  },
  {
   "cell_type": "markdown",
   "metadata": {
    "id": "35m5QtbWiB9F"
   },
   "source": [
    "#### Duplicate Values"
   ]
  },
  {
   "cell_type": "code",
   "execution_count": 11,
   "metadata": {
    "id": "1sLdpKYkmox0"
   },
   "outputs": [
    {
     "name": "stdout",
     "output_type": "stream",
     "text": [
      "Titles Dataset - Duplicate Rows Count:\n",
      "3\n",
      "\n",
      "Credits Dataset - Duplicate Rows Count:\n",
      "56\n",
      "\n",
      "Duplicated rows in Titles Dataset:\n"
     ]
    },
    {
     "data": {
      "text/html": [
       "<div>\n",
       "<style scoped>\n",
       "    .dataframe tbody tr th:only-of-type {\n",
       "        vertical-align: middle;\n",
       "    }\n",
       "\n",
       "    .dataframe tbody tr th {\n",
       "        vertical-align: top;\n",
       "    }\n",
       "\n",
       "    .dataframe thead th {\n",
       "        text-align: right;\n",
       "    }\n",
       "</style>\n",
       "<table border=\"1\" class=\"dataframe\">\n",
       "  <thead>\n",
       "    <tr style=\"text-align: right;\">\n",
       "      <th></th>\n",
       "      <th>id</th>\n",
       "      <th>title</th>\n",
       "      <th>type</th>\n",
       "      <th>description</th>\n",
       "      <th>release_year</th>\n",
       "      <th>age_certification</th>\n",
       "      <th>runtime</th>\n",
       "      <th>genres</th>\n",
       "      <th>production_countries</th>\n",
       "      <th>seasons</th>\n",
       "      <th>imdb_id</th>\n",
       "      <th>imdb_score</th>\n",
       "      <th>imdb_votes</th>\n",
       "      <th>tmdb_popularity</th>\n",
       "      <th>tmdb_score</th>\n",
       "    </tr>\n",
       "  </thead>\n",
       "  <tbody>\n",
       "    <tr>\n",
       "      <th>480</th>\n",
       "      <td>tm89134</td>\n",
       "      <td>The Gunman From Bodie</td>\n",
       "      <td>MOVIE</td>\n",
       "      <td>The Rough Riders are after a gang of rustlers....</td>\n",
       "      <td>1941</td>\n",
       "      <td>NaN</td>\n",
       "      <td>62</td>\n",
       "      <td>['western']</td>\n",
       "      <td>['US']</td>\n",
       "      <td>NaN</td>\n",
       "      <td>tt0033683</td>\n",
       "      <td>5.9</td>\n",
       "      <td>133.0</td>\n",
       "      <td>0.991</td>\n",
       "      <td>7.0</td>\n",
       "    </tr>\n",
       "    <tr>\n",
       "      <th>720</th>\n",
       "      <td>tm66674</td>\n",
       "      <td>Dynamite</td>\n",
       "      <td>MOVIE</td>\n",
       "      <td>Two members of a dynamite crew--a rugged veter...</td>\n",
       "      <td>1949</td>\n",
       "      <td>NaN</td>\n",
       "      <td>68</td>\n",
       "      <td>['drama', 'crime']</td>\n",
       "      <td>['US']</td>\n",
       "      <td>NaN</td>\n",
       "      <td>tt0039343</td>\n",
       "      <td>5.0</td>\n",
       "      <td>24.0</td>\n",
       "      <td>0.841</td>\n",
       "      <td>NaN</td>\n",
       "    </tr>\n",
       "    <tr>\n",
       "      <th>722</th>\n",
       "      <td>tm137955</td>\n",
       "      <td>Broken Dreams</td>\n",
       "      <td>MOVIE</td>\n",
       "      <td>Medical intern Robert Morley is distraught aft...</td>\n",
       "      <td>1933</td>\n",
       "      <td>NaN</td>\n",
       "      <td>68</td>\n",
       "      <td>['drama', 'romance']</td>\n",
       "      <td>['US']</td>\n",
       "      <td>NaN</td>\n",
       "      <td>tt0023849</td>\n",
       "      <td>5.8</td>\n",
       "      <td>74.0</td>\n",
       "      <td>0.600</td>\n",
       "      <td>NaN</td>\n",
       "    </tr>\n",
       "  </tbody>\n",
       "</table>\n",
       "</div>"
      ],
      "text/plain": [
       "           id                  title   type  \\\n",
       "480   tm89134  The Gunman From Bodie  MOVIE   \n",
       "720   tm66674               Dynamite  MOVIE   \n",
       "722  tm137955          Broken Dreams  MOVIE   \n",
       "\n",
       "                                           description  release_year  \\\n",
       "480  The Rough Riders are after a gang of rustlers....          1941   \n",
       "720  Two members of a dynamite crew--a rugged veter...          1949   \n",
       "722  Medical intern Robert Morley is distraught aft...          1933   \n",
       "\n",
       "    age_certification  runtime                genres production_countries  \\\n",
       "480               NaN       62           ['western']               ['US']   \n",
       "720               NaN       68    ['drama', 'crime']               ['US']   \n",
       "722               NaN       68  ['drama', 'romance']               ['US']   \n",
       "\n",
       "     seasons    imdb_id  imdb_score  imdb_votes  tmdb_popularity  tmdb_score  \n",
       "480      NaN  tt0033683         5.9       133.0            0.991         7.0  \n",
       "720      NaN  tt0039343         5.0        24.0            0.841         NaN  \n",
       "722      NaN  tt0023849         5.8        74.0            0.600         NaN  "
      ]
     },
     "metadata": {},
     "output_type": "display_data"
    },
    {
     "name": "stdout",
     "output_type": "stream",
     "text": [
      "\n",
      "Duplicated rows in Credits Dataset:\n"
     ]
    },
    {
     "data": {
      "text/html": [
       "<div>\n",
       "<style scoped>\n",
       "    .dataframe tbody tr th:only-of-type {\n",
       "        vertical-align: middle;\n",
       "    }\n",
       "\n",
       "    .dataframe tbody tr th {\n",
       "        vertical-align: top;\n",
       "    }\n",
       "\n",
       "    .dataframe thead th {\n",
       "        text-align: right;\n",
       "    }\n",
       "</style>\n",
       "<table border=\"1\" class=\"dataframe\">\n",
       "  <thead>\n",
       "    <tr style=\"text-align: right;\">\n",
       "      <th></th>\n",
       "      <th>person_id</th>\n",
       "      <th>id</th>\n",
       "      <th>name</th>\n",
       "      <th>character</th>\n",
       "      <th>role</th>\n",
       "    </tr>\n",
       "  </thead>\n",
       "  <tbody>\n",
       "    <tr>\n",
       "      <th>9156</th>\n",
       "      <td>130904</td>\n",
       "      <td>tm89134</td>\n",
       "      <td>Buck Jones</td>\n",
       "      <td>Buck Roberts</td>\n",
       "      <td>ACTOR</td>\n",
       "    </tr>\n",
       "    <tr>\n",
       "      <th>9157</th>\n",
       "      <td>36589</td>\n",
       "      <td>tm89134</td>\n",
       "      <td>Tim McCoy</td>\n",
       "      <td>Marshal McCall</td>\n",
       "      <td>ACTOR</td>\n",
       "    </tr>\n",
       "    <tr>\n",
       "      <th>9158</th>\n",
       "      <td>130905</td>\n",
       "      <td>tm89134</td>\n",
       "      <td>Raymond Hatton</td>\n",
       "      <td>Sandy</td>\n",
       "      <td>ACTOR</td>\n",
       "    </tr>\n",
       "    <tr>\n",
       "      <th>9159</th>\n",
       "      <td>132916</td>\n",
       "      <td>tm89134</td>\n",
       "      <td>Christine McIntyre</td>\n",
       "      <td>Alice Borden</td>\n",
       "      <td>ACTOR</td>\n",
       "    </tr>\n",
       "    <tr>\n",
       "      <th>9160</th>\n",
       "      <td>132381</td>\n",
       "      <td>tm89134</td>\n",
       "      <td>Dave O'Brien</td>\n",
       "      <td>Joe Martin</td>\n",
       "      <td>ACTOR</td>\n",
       "    </tr>\n",
       "    <tr>\n",
       "      <th>9161</th>\n",
       "      <td>138410</td>\n",
       "      <td>tm89134</td>\n",
       "      <td>Robert Frazer</td>\n",
       "      <td>Wyatt</td>\n",
       "      <td>ACTOR</td>\n",
       "    </tr>\n",
       "    <tr>\n",
       "      <th>9162</th>\n",
       "      <td>74813</td>\n",
       "      <td>tm89134</td>\n",
       "      <td>Charles King</td>\n",
       "      <td>Steve Dunn</td>\n",
       "      <td>ACTOR</td>\n",
       "    </tr>\n",
       "    <tr>\n",
       "      <th>9163</th>\n",
       "      <td>27218</td>\n",
       "      <td>tm89134</td>\n",
       "      <td>Lynton Brent</td>\n",
       "      <td>Red</td>\n",
       "      <td>ACTOR</td>\n",
       "    </tr>\n",
       "    <tr>\n",
       "      <th>9164</th>\n",
       "      <td>27351</td>\n",
       "      <td>tm89134</td>\n",
       "      <td>Max Waizmann</td>\n",
       "      <td>Sheriff Cox</td>\n",
       "      <td>ACTOR</td>\n",
       "    </tr>\n",
       "    <tr>\n",
       "      <th>9165</th>\n",
       "      <td>153737</td>\n",
       "      <td>tm89134</td>\n",
       "      <td>Gene Alsace</td>\n",
       "      <td>Henchman</td>\n",
       "      <td>ACTOR</td>\n",
       "    </tr>\n",
       "    <tr>\n",
       "      <th>9166</th>\n",
       "      <td>62606</td>\n",
       "      <td>tm89134</td>\n",
       "      <td>John Merton</td>\n",
       "      <td>Bill Cook</td>\n",
       "      <td>ACTOR</td>\n",
       "    </tr>\n",
       "    <tr>\n",
       "      <th>9167</th>\n",
       "      <td>93477</td>\n",
       "      <td>tm89134</td>\n",
       "      <td>Frank LaRue</td>\n",
       "      <td>Jud Mason</td>\n",
       "      <td>ACTOR</td>\n",
       "    </tr>\n",
       "    <tr>\n",
       "      <th>9168</th>\n",
       "      <td>571391</td>\n",
       "      <td>tm89134</td>\n",
       "      <td>Silver</td>\n",
       "      <td>Silver</td>\n",
       "      <td>ACTOR</td>\n",
       "    </tr>\n",
       "    <tr>\n",
       "      <th>9169</th>\n",
       "      <td>71556</td>\n",
       "      <td>tm89134</td>\n",
       "      <td>Ed Brady</td>\n",
       "      <td>Crane</td>\n",
       "      <td>ACTOR</td>\n",
       "    </tr>\n",
       "    <tr>\n",
       "      <th>9170</th>\n",
       "      <td>13370</td>\n",
       "      <td>tm89134</td>\n",
       "      <td>Kernan Cripps</td>\n",
       "      <td>Al</td>\n",
       "      <td>ACTOR</td>\n",
       "    </tr>\n",
       "    <tr>\n",
       "      <th>9171</th>\n",
       "      <td>152970</td>\n",
       "      <td>tm89134</td>\n",
       "      <td>Earl Douglas</td>\n",
       "      <td>Henchman</td>\n",
       "      <td>ACTOR</td>\n",
       "    </tr>\n",
       "    <tr>\n",
       "      <th>9172</th>\n",
       "      <td>685522</td>\n",
       "      <td>tm89134</td>\n",
       "      <td>Frederick Gee</td>\n",
       "      <td>Gibbs Baby</td>\n",
       "      <td>ACTOR</td>\n",
       "    </tr>\n",
       "    <tr>\n",
       "      <th>9173</th>\n",
       "      <td>60256</td>\n",
       "      <td>tm89134</td>\n",
       "      <td>Chick Hannan</td>\n",
       "      <td>Townsman</td>\n",
       "      <td>ACTOR</td>\n",
       "    </tr>\n",
       "    <tr>\n",
       "      <th>9174</th>\n",
       "      <td>62993</td>\n",
       "      <td>tm89134</td>\n",
       "      <td>Merrill McCormick</td>\n",
       "      <td>Townsman</td>\n",
       "      <td>ACTOR</td>\n",
       "    </tr>\n",
       "    <tr>\n",
       "      <th>9175</th>\n",
       "      <td>153661</td>\n",
       "      <td>tm89134</td>\n",
       "      <td>Warren Jackson</td>\n",
       "      <td>Henchman</td>\n",
       "      <td>ACTOR</td>\n",
       "    </tr>\n",
       "    <tr>\n",
       "      <th>9176</th>\n",
       "      <td>134247</td>\n",
       "      <td>tm89134</td>\n",
       "      <td>Tex Palmer</td>\n",
       "      <td>Henchman</td>\n",
       "      <td>ACTOR</td>\n",
       "    </tr>\n",
       "    <tr>\n",
       "      <th>9177</th>\n",
       "      <td>571390</td>\n",
       "      <td>tm89134</td>\n",
       "      <td>Jerry Sheldon</td>\n",
       "      <td>Henchman</td>\n",
       "      <td>ACTOR</td>\n",
       "    </tr>\n",
       "    <tr>\n",
       "      <th>9178</th>\n",
       "      <td>134022</td>\n",
       "      <td>tm89134</td>\n",
       "      <td>Jack King</td>\n",
       "      <td>Henchman (uncredited)</td>\n",
       "      <td>ACTOR</td>\n",
       "    </tr>\n",
       "    <tr>\n",
       "      <th>9179</th>\n",
       "      <td>151847</td>\n",
       "      <td>tm89134</td>\n",
       "      <td>Spencer Gordon Bennet</td>\n",
       "      <td>NaN</td>\n",
       "      <td>DIRECTOR</td>\n",
       "    </tr>\n",
       "    <tr>\n",
       "      <th>12986</th>\n",
       "      <td>137835</td>\n",
       "      <td>tm66674</td>\n",
       "      <td>William Gargan</td>\n",
       "      <td>'Gunner' Peterson</td>\n",
       "      <td>ACTOR</td>\n",
       "    </tr>\n",
       "    <tr>\n",
       "      <th>12987</th>\n",
       "      <td>151656</td>\n",
       "      <td>tm66674</td>\n",
       "      <td>Richard Crane</td>\n",
       "      <td>Johnny Brown</td>\n",
       "      <td>ACTOR</td>\n",
       "    </tr>\n",
       "    <tr>\n",
       "      <th>12988</th>\n",
       "      <td>560384</td>\n",
       "      <td>tm66674</td>\n",
       "      <td>Virginia Welles</td>\n",
       "      <td>Mary</td>\n",
       "      <td>ACTOR</td>\n",
       "    </tr>\n",
       "    <tr>\n",
       "      <th>12989</th>\n",
       "      <td>13331</td>\n",
       "      <td>tm66674</td>\n",
       "      <td>Irving Bacon</td>\n",
       "      <td>Jake</td>\n",
       "      <td>ACTOR</td>\n",
       "    </tr>\n",
       "    <tr>\n",
       "      <th>12990</th>\n",
       "      <td>60483</td>\n",
       "      <td>tm66674</td>\n",
       "      <td>Frank Ferguson</td>\n",
       "      <td>'Hard Rock' Mason</td>\n",
       "      <td>ACTOR</td>\n",
       "    </tr>\n",
       "    <tr>\n",
       "      <th>12991</th>\n",
       "      <td>36492</td>\n",
       "      <td>tm66674</td>\n",
       "      <td>Douglass Dumbrille</td>\n",
       "      <td>Hank Gibbons</td>\n",
       "      <td>ACTOR</td>\n",
       "    </tr>\n",
       "    <tr>\n",
       "      <th>12992</th>\n",
       "      <td>567044</td>\n",
       "      <td>tm66674</td>\n",
       "      <td>Mary Newton</td>\n",
       "      <td>Nellie Brown</td>\n",
       "      <td>ACTOR</td>\n",
       "    </tr>\n",
       "    <tr>\n",
       "      <th>12993</th>\n",
       "      <td>62597</td>\n",
       "      <td>tm66674</td>\n",
       "      <td>Phil Arnold</td>\n",
       "      <td>NaN</td>\n",
       "      <td>ACTOR</td>\n",
       "    </tr>\n",
       "    <tr>\n",
       "      <th>12994</th>\n",
       "      <td>17008</td>\n",
       "      <td>tm66674</td>\n",
       "      <td>Paul Bryar</td>\n",
       "      <td>NaN</td>\n",
       "      <td>ACTOR</td>\n",
       "    </tr>\n",
       "    <tr>\n",
       "      <th>12995</th>\n",
       "      <td>93473</td>\n",
       "      <td>tm66674</td>\n",
       "      <td>Lane Chandler</td>\n",
       "      <td>NaN</td>\n",
       "      <td>ACTOR</td>\n",
       "    </tr>\n",
       "    <tr>\n",
       "      <th>12996</th>\n",
       "      <td>65198</td>\n",
       "      <td>tm66674</td>\n",
       "      <td>Bill Kennedy</td>\n",
       "      <td>NaN</td>\n",
       "      <td>ACTOR</td>\n",
       "    </tr>\n",
       "    <tr>\n",
       "      <th>12997</th>\n",
       "      <td>71896</td>\n",
       "      <td>tm66674</td>\n",
       "      <td>Ralph Montgomery</td>\n",
       "      <td>NaN</td>\n",
       "      <td>ACTOR</td>\n",
       "    </tr>\n",
       "    <tr>\n",
       "      <th>12998</th>\n",
       "      <td>106314</td>\n",
       "      <td>tm66674</td>\n",
       "      <td>Keith Richards</td>\n",
       "      <td>Danbury (uncredited)</td>\n",
       "      <td>ACTOR</td>\n",
       "    </tr>\n",
       "    <tr>\n",
       "      <th>12999</th>\n",
       "      <td>137509</td>\n",
       "      <td>tm66674</td>\n",
       "      <td>Jason Robards Sr.</td>\n",
       "      <td>NaN</td>\n",
       "      <td>ACTOR</td>\n",
       "    </tr>\n",
       "    <tr>\n",
       "      <th>13000</th>\n",
       "      <td>214061</td>\n",
       "      <td>tm66674</td>\n",
       "      <td>Lee Roberts</td>\n",
       "      <td>NaN</td>\n",
       "      <td>ACTOR</td>\n",
       "    </tr>\n",
       "    <tr>\n",
       "      <th>13001</th>\n",
       "      <td>57721</td>\n",
       "      <td>tm66674</td>\n",
       "      <td>Almira Sessions</td>\n",
       "      <td>Jennie (uncredited)</td>\n",
       "      <td>ACTOR</td>\n",
       "    </tr>\n",
       "    <tr>\n",
       "      <th>13002</th>\n",
       "      <td>13427</td>\n",
       "      <td>tm66674</td>\n",
       "      <td>Dan White</td>\n",
       "      <td>Skipper Brown (uncredited)</td>\n",
       "      <td>ACTOR</td>\n",
       "    </tr>\n",
       "    <tr>\n",
       "      <th>13003</th>\n",
       "      <td>219670</td>\n",
       "      <td>tm66674</td>\n",
       "      <td>William H. Pine</td>\n",
       "      <td>NaN</td>\n",
       "      <td>DIRECTOR</td>\n",
       "    </tr>\n",
       "    <tr>\n",
       "      <th>13024</th>\n",
       "      <td>60996</td>\n",
       "      <td>tm137955</td>\n",
       "      <td>Randolph Scott</td>\n",
       "      <td>Dr. Robert Morley</td>\n",
       "      <td>ACTOR</td>\n",
       "    </tr>\n",
       "    <tr>\n",
       "      <th>13025</th>\n",
       "      <td>109675</td>\n",
       "      <td>tm137955</td>\n",
       "      <td>Martha Sleeper</td>\n",
       "      <td>Martha Morley</td>\n",
       "      <td>ACTOR</td>\n",
       "    </tr>\n",
       "    <tr>\n",
       "      <th>13026</th>\n",
       "      <td>21688</td>\n",
       "      <td>tm137955</td>\n",
       "      <td>Beryl Mercer</td>\n",
       "      <td>Mom</td>\n",
       "      <td>ACTOR</td>\n",
       "    </tr>\n",
       "    <tr>\n",
       "      <th>13027</th>\n",
       "      <td>53498</td>\n",
       "      <td>tm137955</td>\n",
       "      <td>Joseph Cawthorn</td>\n",
       "      <td>Pop</td>\n",
       "      <td>ACTOR</td>\n",
       "    </tr>\n",
       "    <tr>\n",
       "      <th>13028</th>\n",
       "      <td>74807</td>\n",
       "      <td>tm137955</td>\n",
       "      <td>Buster Phelps</td>\n",
       "      <td>Billy Morley</td>\n",
       "      <td>ACTOR</td>\n",
       "    </tr>\n",
       "    <tr>\n",
       "      <th>13029</th>\n",
       "      <td>211010</td>\n",
       "      <td>tm137955</td>\n",
       "      <td>Charlotte Merriam</td>\n",
       "      <td>Grace</td>\n",
       "      <td>ACTOR</td>\n",
       "    </tr>\n",
       "    <tr>\n",
       "      <th>13030</th>\n",
       "      <td>60949</td>\n",
       "      <td>tm137955</td>\n",
       "      <td>Sidney Bracey</td>\n",
       "      <td>Hopkins</td>\n",
       "      <td>ACTOR</td>\n",
       "    </tr>\n",
       "    <tr>\n",
       "      <th>13031</th>\n",
       "      <td>219604</td>\n",
       "      <td>tm137955</td>\n",
       "      <td>Adele St. Mauer</td>\n",
       "      <td>Mademoiselle</td>\n",
       "      <td>ACTOR</td>\n",
       "    </tr>\n",
       "    <tr>\n",
       "      <th>13032</th>\n",
       "      <td>219902</td>\n",
       "      <td>tm137955</td>\n",
       "      <td>Martin Burton</td>\n",
       "      <td>Paul</td>\n",
       "      <td>ACTOR</td>\n",
       "    </tr>\n",
       "    <tr>\n",
       "      <th>13033</th>\n",
       "      <td>576342</td>\n",
       "      <td>tm137955</td>\n",
       "      <td>Clarence Geldart</td>\n",
       "      <td>Dr. Fleming</td>\n",
       "      <td>ACTOR</td>\n",
       "    </tr>\n",
       "    <tr>\n",
       "      <th>13034</th>\n",
       "      <td>60957</td>\n",
       "      <td>tm137955</td>\n",
       "      <td>Edward LeSaint</td>\n",
       "      <td>Judge Harvey E. Blake</td>\n",
       "      <td>ACTOR</td>\n",
       "    </tr>\n",
       "    <tr>\n",
       "      <th>13035</th>\n",
       "      <td>576620</td>\n",
       "      <td>tm137955</td>\n",
       "      <td>Finis Barton</td>\n",
       "      <td>Gladys</td>\n",
       "      <td>ACTOR</td>\n",
       "    </tr>\n",
       "    <tr>\n",
       "      <th>13036</th>\n",
       "      <td>137455</td>\n",
       "      <td>tm137955</td>\n",
       "      <td>Sam Flint</td>\n",
       "      <td>Dr. Greenwood</td>\n",
       "      <td>ACTOR</td>\n",
       "    </tr>\n",
       "    <tr>\n",
       "      <th>13037</th>\n",
       "      <td>154486</td>\n",
       "      <td>tm137955</td>\n",
       "      <td>Robert G. Vignola</td>\n",
       "      <td>NaN</td>\n",
       "      <td>DIRECTOR</td>\n",
       "    </tr>\n",
       "  </tbody>\n",
       "</table>\n",
       "</div>"
      ],
      "text/plain": [
       "       person_id        id                   name                   character  \\\n",
       "9156      130904   tm89134             Buck Jones                Buck Roberts   \n",
       "9157       36589   tm89134              Tim McCoy              Marshal McCall   \n",
       "9158      130905   tm89134         Raymond Hatton                       Sandy   \n",
       "9159      132916   tm89134     Christine McIntyre                Alice Borden   \n",
       "9160      132381   tm89134           Dave O'Brien                  Joe Martin   \n",
       "9161      138410   tm89134          Robert Frazer                       Wyatt   \n",
       "9162       74813   tm89134           Charles King                  Steve Dunn   \n",
       "9163       27218   tm89134           Lynton Brent                         Red   \n",
       "9164       27351   tm89134           Max Waizmann                 Sheriff Cox   \n",
       "9165      153737   tm89134            Gene Alsace                    Henchman   \n",
       "9166       62606   tm89134            John Merton                   Bill Cook   \n",
       "9167       93477   tm89134            Frank LaRue                   Jud Mason   \n",
       "9168      571391   tm89134                 Silver                      Silver   \n",
       "9169       71556   tm89134               Ed Brady                       Crane   \n",
       "9170       13370   tm89134          Kernan Cripps                          Al   \n",
       "9171      152970   tm89134           Earl Douglas                    Henchman   \n",
       "9172      685522   tm89134          Frederick Gee                  Gibbs Baby   \n",
       "9173       60256   tm89134           Chick Hannan                    Townsman   \n",
       "9174       62993   tm89134      Merrill McCormick                    Townsman   \n",
       "9175      153661   tm89134         Warren Jackson                    Henchman   \n",
       "9176      134247   tm89134             Tex Palmer                    Henchman   \n",
       "9177      571390   tm89134          Jerry Sheldon                    Henchman   \n",
       "9178      134022   tm89134              Jack King       Henchman (uncredited)   \n",
       "9179      151847   tm89134  Spencer Gordon Bennet                         NaN   \n",
       "12986     137835   tm66674         William Gargan           'Gunner' Peterson   \n",
       "12987     151656   tm66674          Richard Crane                Johnny Brown   \n",
       "12988     560384   tm66674        Virginia Welles                        Mary   \n",
       "12989      13331   tm66674           Irving Bacon                        Jake   \n",
       "12990      60483   tm66674         Frank Ferguson           'Hard Rock' Mason   \n",
       "12991      36492   tm66674     Douglass Dumbrille                Hank Gibbons   \n",
       "12992     567044   tm66674            Mary Newton                Nellie Brown   \n",
       "12993      62597   tm66674            Phil Arnold                         NaN   \n",
       "12994      17008   tm66674             Paul Bryar                         NaN   \n",
       "12995      93473   tm66674          Lane Chandler                         NaN   \n",
       "12996      65198   tm66674           Bill Kennedy                         NaN   \n",
       "12997      71896   tm66674       Ralph Montgomery                         NaN   \n",
       "12998     106314   tm66674         Keith Richards        Danbury (uncredited)   \n",
       "12999     137509   tm66674      Jason Robards Sr.                         NaN   \n",
       "13000     214061   tm66674            Lee Roberts                         NaN   \n",
       "13001      57721   tm66674        Almira Sessions         Jennie (uncredited)   \n",
       "13002      13427   tm66674              Dan White  Skipper Brown (uncredited)   \n",
       "13003     219670   tm66674        William H. Pine                         NaN   \n",
       "13024      60996  tm137955         Randolph Scott           Dr. Robert Morley   \n",
       "13025     109675  tm137955         Martha Sleeper               Martha Morley   \n",
       "13026      21688  tm137955           Beryl Mercer                         Mom   \n",
       "13027      53498  tm137955        Joseph Cawthorn                         Pop   \n",
       "13028      74807  tm137955          Buster Phelps                Billy Morley   \n",
       "13029     211010  tm137955      Charlotte Merriam                       Grace   \n",
       "13030      60949  tm137955          Sidney Bracey                     Hopkins   \n",
       "13031     219604  tm137955        Adele St. Mauer                Mademoiselle   \n",
       "13032     219902  tm137955          Martin Burton                        Paul   \n",
       "13033     576342  tm137955       Clarence Geldart                 Dr. Fleming   \n",
       "13034      60957  tm137955         Edward LeSaint       Judge Harvey E. Blake   \n",
       "13035     576620  tm137955           Finis Barton                      Gladys   \n",
       "13036     137455  tm137955              Sam Flint               Dr. Greenwood   \n",
       "13037     154486  tm137955      Robert G. Vignola                         NaN   \n",
       "\n",
       "           role  \n",
       "9156      ACTOR  \n",
       "9157      ACTOR  \n",
       "9158      ACTOR  \n",
       "9159      ACTOR  \n",
       "9160      ACTOR  \n",
       "9161      ACTOR  \n",
       "9162      ACTOR  \n",
       "9163      ACTOR  \n",
       "9164      ACTOR  \n",
       "9165      ACTOR  \n",
       "9166      ACTOR  \n",
       "9167      ACTOR  \n",
       "9168      ACTOR  \n",
       "9169      ACTOR  \n",
       "9170      ACTOR  \n",
       "9171      ACTOR  \n",
       "9172      ACTOR  \n",
       "9173      ACTOR  \n",
       "9174      ACTOR  \n",
       "9175      ACTOR  \n",
       "9176      ACTOR  \n",
       "9177      ACTOR  \n",
       "9178      ACTOR  \n",
       "9179   DIRECTOR  \n",
       "12986     ACTOR  \n",
       "12987     ACTOR  \n",
       "12988     ACTOR  \n",
       "12989     ACTOR  \n",
       "12990     ACTOR  \n",
       "12991     ACTOR  \n",
       "12992     ACTOR  \n",
       "12993     ACTOR  \n",
       "12994     ACTOR  \n",
       "12995     ACTOR  \n",
       "12996     ACTOR  \n",
       "12997     ACTOR  \n",
       "12998     ACTOR  \n",
       "12999     ACTOR  \n",
       "13000     ACTOR  \n",
       "13001     ACTOR  \n",
       "13002     ACTOR  \n",
       "13003  DIRECTOR  \n",
       "13024     ACTOR  \n",
       "13025     ACTOR  \n",
       "13026     ACTOR  \n",
       "13027     ACTOR  \n",
       "13028     ACTOR  \n",
       "13029     ACTOR  \n",
       "13030     ACTOR  \n",
       "13031     ACTOR  \n",
       "13032     ACTOR  \n",
       "13033     ACTOR  \n",
       "13034     ACTOR  \n",
       "13035     ACTOR  \n",
       "13036     ACTOR  \n",
       "13037  DIRECTOR  "
      ]
     },
     "metadata": {},
     "output_type": "display_data"
    }
   ],
   "source": [
    "titles_df = pd.read_csv('titles.csv')\n",
    "credits_df = pd.read_csv('credits.csv')\n",
    "\n",
    "# Count duplicated rows in each DataFrame\n",
    "print(\"Titles Dataset - Duplicate Rows Count:\")\n",
    "print(titles_df.duplicated().sum())\n",
    "\n",
    "print(\"\\nCredits Dataset - Duplicate Rows Count:\")\n",
    "print(credits_df.duplicated().sum())\n",
    "\n",
    "# Optional: Display duplicated rows if needed\n",
    "print(\"\\nDuplicated rows in Titles Dataset:\")\n",
    "display(titles_df[titles_df.duplicated()])\n",
    "\n",
    "print(\"\\nDuplicated rows in Credits Dataset:\")\n",
    "display(credits_df[credits_df.duplicated()])\n",
    "\n"
   ]
  },
  {
   "cell_type": "markdown",
   "metadata": {
    "id": "PoPl-ycgm1ru"
   },
   "source": [
    "#### Missing Values/Null Values"
   ]
  },
  {
   "cell_type": "code",
   "execution_count": 12,
   "metadata": {
    "id": "GgHWkxvamxVg"
   },
   "outputs": [
    {
     "name": "stdout",
     "output_type": "stream",
     "text": [
      "Missing Values in Titles Dataset:\n",
      "\n",
      "id                         0\n",
      "title                      0\n",
      "type                       0\n",
      "description              119\n",
      "release_year               0\n",
      "age_certification       6487\n",
      "runtime                    0\n",
      "genres                     0\n",
      "production_countries       0\n",
      "seasons                 8514\n",
      "imdb_id                  667\n",
      "imdb_score              1021\n",
      "imdb_votes              1031\n",
      "tmdb_popularity          547\n",
      "tmdb_score              2082\n",
      "dtype: int64\n",
      "\n",
      "Percentage of Missing Values in Titles Dataset:\n",
      "\n",
      "id                       0.00\n",
      "title                    0.00\n",
      "type                     0.00\n",
      "description              1.21\n",
      "release_year             0.00\n",
      "age_certification       65.72\n",
      "runtime                  0.00\n",
      "genres                   0.00\n",
      "production_countries     0.00\n",
      "seasons                 86.25\n",
      "imdb_id                  6.76\n",
      "imdb_score              10.34\n",
      "imdb_votes              10.44\n",
      "tmdb_popularity          5.54\n",
      "tmdb_score              21.09\n",
      "dtype: float64\n",
      "\n",
      "\n",
      "Missing Values in Credits Dataset:\n",
      "\n",
      "person_id        0\n",
      "id               0\n",
      "name             0\n",
      "character    16287\n",
      "role             0\n",
      "dtype: int64\n",
      "\n",
      "Percentage of Missing Values in Credits Dataset:\n",
      "\n",
      "person_id     0.00\n",
      "id            0.00\n",
      "name          0.00\n",
      "character    13.11\n",
      "role          0.00\n",
      "dtype: float64\n"
     ]
    }
   ],
   "source": [
    "# Check for missing/null values in Titles dataset\n",
    "print(\"Missing Values in Titles Dataset:\\n\")\n",
    "print(titles_df.isnull().sum())\n",
    "\n",
    "# Optional: Percentage of missing values\n",
    "print(\"\\nPercentage of Missing Values in Titles Dataset:\\n\")\n",
    "print((titles_df.isnull().mean() * 100).round(2))\n",
    "\n",
    "# Check for missing/null values in Credits dataset\n",
    "print(\"\\n\\nMissing Values in Credits Dataset:\\n\")\n",
    "print(credits_df.isnull().sum())\n",
    "\n",
    "# Optional: Percentage of missing values\n",
    "print(\"\\nPercentage of Missing Values in Credits Dataset:\\n\")\n",
    "print((credits_df.isnull().mean() * 100).round(2))\n"
   ]
  },
  {
   "cell_type": "code",
   "execution_count": 14,
   "metadata": {
    "id": "3q5wnI3om9sJ"
   },
   "outputs": [
    {
     "data": {
      "image/png": "[encoded data removed]",
      "text/plain": [
       "<Figure size 1200x600 with 1 Axes>"
      ]
     },
     "metadata": {},
     "output_type": "display_data"
    },
    {
     "data": {
      "image/png": "[encoded data removed]",
      "text/plain": [
       "<Figure size 1200x600 with 1 Axes>"
      ]
     },
     "metadata": {},
     "output_type": "display_data"
    }
   ],
   "source": [
    "plt.figure(figsize=(12, 6))\n",
    "sns.heatmap(titles_df.isnull(), cbar=False, cmap='viridis')\n",
    "plt.title('Missing Values in Titles Dataset')\n",
    "plt.show()\n",
    "\n",
    "plt.figure(figsize=(12, 6))\n",
    "sns.heatmap(credits_df.isnull(), cbar=False, cmap='viridis')\n",
    "plt.title('Missing Values in Credits Dataset')\n",
    "plt.show()\n"
   ]
  },
  {
   "cell_type": "markdown",
   "metadata": {
    "id": "H0kj-8xxnORC"
   },
   "source": [
    "### What did you know about your dataset?"
   ]
  },
  {
   "cell_type": "markdown",
   "metadata": {
    "id": "gfoNAAC-nUe_"
   },
   "source": [
    "### \r",
    "\r",
    "- The **Titles dataset** contains information about movies and shows, including attributes like title name, release year, type (movie/show), and genre.\r\n",
    "- The **Credits dataset** seems to include cast and crew details, possibly linked to the titles using a common ID.\r\n",
    "\r\n",
    "Data Data Quality Observations:\r\n",
    "- There are **some missing/null values** in both datasets — especially in optional fields like `description` or `cast`, which might be expected.\r\n",
    "- A few **duplicate rows** were found and should be cleaned up if not intentional.\r\n",
    "- Most columns look well-structured, but some might need **type conversion** (e.g., date fields as `datetime`).\r\n",
    "(Markdown(summary))\r\n",
    "etime`).etime`)."
   ]
  },
  {
   "cell_type": "markdown",
   "metadata": {
    "id": "nA9Y7ga8ng1Z"
   },
   "source": [
    "## ***2. Understanding Your Variables***"
   ]
  },
  {
   "cell_type": "code",
   "execution_count": 16,
   "metadata": {
    "id": "j7xfkqrt5Ag5"
   },
   "outputs": [
    {
     "name": "stdout",
     "output_type": "stream",
     "text": [
      "Columns in Titles Dataset:\n",
      "['id', 'title', 'type', 'description', 'release_year', 'age_certification', 'runtime', 'genres', 'production_countries', 'seasons', 'imdb_id', 'imdb_score', 'imdb_votes', 'tmdb_popularity', 'tmdb_score']\n",
      "Columns in Credits Dataset:\n",
      "['person_id', 'id', 'name', 'character', 'role']\n"
     ]
    }
   ],
   "source": [
    "print(\"Columns in Titles Dataset:\")\n",
    "print(titles_df.columns.tolist())\n",
    "\n",
    "print(\"Columns in Credits Dataset:\")\n",
    "print(credits_df.columns.tolist())\n"
   ]
  },
  {
   "cell_type": "code",
   "execution_count": 18,
   "metadata": {
    "id": "DnOaZdaE5Q5t"
   },
   "outputs": [
    {
     "name": "stdout",
     "output_type": "stream",
     "text": [
      "📊 Statistical Summary of Titles Dataset:\n",
      "\n"
     ]
    },
    {
     "data": {
      "text/html": [
       "<div>\n",
       "<style scoped>\n",
       "    .dataframe tbody tr th:only-of-type {\n",
       "        vertical-align: middle;\n",
       "    }\n",
       "\n",
       "    .dataframe tbody tr th {\n",
       "        vertical-align: top;\n",
       "    }\n",
       "\n",
       "    .dataframe thead th {\n",
       "        text-align: right;\n",
       "    }\n",
       "</style>\n",
       "<table border=\"1\" class=\"dataframe\">\n",
       "  <thead>\n",
       "    <tr style=\"text-align: right;\">\n",
       "      <th></th>\n",
       "      <th>release_year</th>\n",
       "      <th>runtime</th>\n",
       "      <th>seasons</th>\n",
       "      <th>imdb_score</th>\n",
       "      <th>imdb_votes</th>\n",
       "      <th>tmdb_popularity</th>\n",
       "      <th>tmdb_score</th>\n",
       "    </tr>\n",
       "  </thead>\n",
       "  <tbody>\n",
       "    <tr>\n",
       "      <th>count</th>\n",
       "      <td>9871.000000</td>\n",
       "      <td>9871.000000</td>\n",
       "      <td>1357.000000</td>\n",
       "      <td>8850.000000</td>\n",
       "      <td>8.840000e+03</td>\n",
       "      <td>9324.000000</td>\n",
       "      <td>7789.000000</td>\n",
       "    </tr>\n",
       "    <tr>\n",
       "      <th>mean</th>\n",
       "      <td>2001.327221</td>\n",
       "      <td>85.973052</td>\n",
       "      <td>2.791452</td>\n",
       "      <td>5.976395</td>\n",
       "      <td>8.533614e+03</td>\n",
       "      <td>6.910204</td>\n",
       "      <td>5.984247</td>\n",
       "    </tr>\n",
       "    <tr>\n",
       "      <th>std</th>\n",
       "      <td>25.810071</td>\n",
       "      <td>33.512466</td>\n",
       "      <td>4.148958</td>\n",
       "      <td>1.343842</td>\n",
       "      <td>4.592015e+04</td>\n",
       "      <td>30.004098</td>\n",
       "      <td>1.517986</td>\n",
       "    </tr>\n",
       "    <tr>\n",
       "      <th>min</th>\n",
       "      <td>1912.000000</td>\n",
       "      <td>1.000000</td>\n",
       "      <td>1.000000</td>\n",
       "      <td>1.100000</td>\n",
       "      <td>5.000000e+00</td>\n",
       "      <td>0.000011</td>\n",
       "      <td>0.800000</td>\n",
       "    </tr>\n",
       "    <tr>\n",
       "      <th>25%</th>\n",
       "      <td>1995.500000</td>\n",
       "      <td>65.000000</td>\n",
       "      <td>1.000000</td>\n",
       "      <td>5.100000</td>\n",
       "      <td>1.170000e+02</td>\n",
       "      <td>1.232000</td>\n",
       "      <td>5.100000</td>\n",
       "    </tr>\n",
       "    <tr>\n",
       "      <th>50%</th>\n",
       "      <td>2014.000000</td>\n",
       "      <td>89.000000</td>\n",
       "      <td>1.000000</td>\n",
       "      <td>6.100000</td>\n",
       "      <td>4.625000e+02</td>\n",
       "      <td>2.536000</td>\n",
       "      <td>6.000000</td>\n",
       "    </tr>\n",
       "    <tr>\n",
       "      <th>75%</th>\n",
       "      <td>2018.000000</td>\n",
       "      <td>102.000000</td>\n",
       "      <td>3.000000</td>\n",
       "      <td>6.900000</td>\n",
       "      <td>2.236250e+03</td>\n",
       "      <td>5.634000</td>\n",
       "      <td>6.900000</td>\n",
       "    </tr>\n",
       "    <tr>\n",
       "      <th>max</th>\n",
       "      <td>2022.000000</td>\n",
       "      <td>549.000000</td>\n",
       "      <td>51.000000</td>\n",
       "      <td>9.900000</td>\n",
       "      <td>1.133692e+06</td>\n",
       "      <td>1437.906000</td>\n",
       "      <td>10.000000</td>\n",
       "    </tr>\n",
       "  </tbody>\n",
       "</table>\n",
       "</div>"
      ],
      "text/plain": [
       "       release_year      runtime      seasons   imdb_score    imdb_votes  \\\n",
       "count   9871.000000  9871.000000  1357.000000  8850.000000  8.840000e+03   \n",
       "mean    2001.327221    85.973052     2.791452     5.976395  8.533614e+03   \n",
       "std       25.810071    33.512466     4.148958     1.343842  4.592015e+04   \n",
       "min     1912.000000     1.000000     1.000000     1.100000  5.000000e+00   \n",
       "25%     1995.500000    65.000000     1.000000     5.100000  1.170000e+02   \n",
       "50%     2014.000000    89.000000     1.000000     6.100000  4.625000e+02   \n",
       "75%     2018.000000   102.000000     3.000000     6.900000  2.236250e+03   \n",
       "max     2022.000000   549.000000    51.000000     9.900000  1.133692e+06   \n",
       "\n",
       "       tmdb_popularity   tmdb_score  \n",
       "count      9324.000000  7789.000000  \n",
       "mean          6.910204     5.984247  \n",
       "std          30.004098     1.517986  \n",
       "min           0.000011     0.800000  \n",
       "25%           1.232000     5.100000  \n",
       "50%           2.536000     6.000000  \n",
       "75%           5.634000     6.900000  \n",
       "max        1437.906000    10.000000  "
      ]
     },
     "metadata": {},
     "output_type": "display_data"
    },
    {
     "name": "stdout",
     "output_type": "stream",
     "text": [
      "\n",
      "📊 Statistical Summary of Credits Dataset:\n",
      "\n"
     ]
    },
    {
     "data": {
      "text/html": [
       "<div>\n",
       "<style scoped>\n",
       "    .dataframe tbody tr th:only-of-type {\n",
       "        vertical-align: middle;\n",
       "    }\n",
       "\n",
       "    .dataframe tbody tr th {\n",
       "        vertical-align: top;\n",
       "    }\n",
       "\n",
       "    .dataframe thead th {\n",
       "        text-align: right;\n",
       "    }\n",
       "</style>\n",
       "<table border=\"1\" class=\"dataframe\">\n",
       "  <thead>\n",
       "    <tr style=\"text-align: right;\">\n",
       "      <th></th>\n",
       "      <th>person_id</th>\n",
       "    </tr>\n",
       "  </thead>\n",
       "  <tbody>\n",
       "    <tr>\n",
       "      <th>count</th>\n",
       "      <td>1.242350e+05</td>\n",
       "    </tr>\n",
       "    <tr>\n",
       "      <th>mean</th>\n",
       "      <td>4.064737e+05</td>\n",
       "    </tr>\n",
       "    <tr>\n",
       "      <th>std</th>\n",
       "      <td>5.616296e+05</td>\n",
       "    </tr>\n",
       "    <tr>\n",
       "      <th>min</th>\n",
       "      <td>1.000000e+00</td>\n",
       "    </tr>\n",
       "    <tr>\n",
       "      <th>25%</th>\n",
       "      <td>3.899200e+04</td>\n",
       "    </tr>\n",
       "    <tr>\n",
       "      <th>50%</th>\n",
       "      <td>1.339490e+05</td>\n",
       "    </tr>\n",
       "    <tr>\n",
       "      <th>75%</th>\n",
       "      <td>5.712560e+05</td>\n",
       "    </tr>\n",
       "    <tr>\n",
       "      <th>max</th>\n",
       "      <td>2.371153e+06</td>\n",
       "    </tr>\n",
       "  </tbody>\n",
       "</table>\n",
       "</div>"
      ],
      "text/plain": [
       "          person_id\n",
       "count  1.242350e+05\n",
       "mean   4.064737e+05\n",
       "std    5.616296e+05\n",
       "min    1.000000e+00\n",
       "25%    3.899200e+04\n",
       "50%    1.339490e+05\n",
       "75%    5.712560e+05\n",
       "max    2.371153e+06"
      ]
     },
     "metadata": {},
     "output_type": "display_data"
    }
   ],
   "source": [
    "print(\"📊 Statistical Summary of Titles Dataset:\\n\")\n",
    "display(titles_df.describe())\n",
    "\n",
    "print(\"\\n📊 Statistical Summary of Credits Dataset:\\n\")\n",
    "display(credits_df.describe())\n"
   ]
  },
  {
   "cell_type": "markdown",
   "metadata": {
    "id": "PBTbrJXOngz2"
   },
   "source": [
    "### Variables Description"
   ]
  },
  {
   "cell_type": "markdown",
   "metadata": {
    "id": "aJV4KIxSnxay"
   },
   "source": [
    "### Variables Description\r\n",
    "\r\n",
    "#### Titles Dataset\r\n",
    "\r\n",
    "| Column Name       | Description |\r\n",
    "|-------------------|-------------|\r\n",
    "| id                | Unique identifier for each title |\r\n",
    "| title             | Name of the movie or TV show |\r\n",
    "| type              | Indicates whether the entry is a movie or a show |\r\n",
    "| description       | Brief summary or synopsis of the title |\r\n",
    "| release_year      | Year the title was released |\r\n",
    "| age_certification | Age rating assigned to the title (e.g., PG, R, TV-MA) |\r\n",
    "| runtime           | Duration of the title in minutes |\r\n",
    "| genres            | List of genres associated with the title (e.g., Action, Comedy) |\r\n",
    "| production_country| Country where the title was produced |\r\n",
    "| seasons           | Number of seasons (only applicable for shows) |\r\n",
    "| imdb_id           | IMDB identifier for cross-referencing |\r\n",
    "\r\n",
    "#### Credits Dataset\r\n",
    "\r\n",
    "| Column Name | Description |\r\n",
    "|-------------|-------------|\r\n",
    "| id          | Unique identifier corresponding to the title (same as in Titles dataset) |\r\n",
    "| name        | Name of the person (cast or crew member) |\r\n",
    "| role        | Role of the person (e.g., ACTOR, DIRECTOR) |\r\n",
    "\r\n",
    " explore, and model your data.\r\n"
   ]
  },
  {
   "cell_type": "markdown",
   "metadata": {
    "id": "u3PMJOP6ngxN"
   },
   "source": [
    "### Check Unique Values for each variable."
   ]
  },
  {
   "cell_type": "code",
   "execution_count": 19,
   "metadata": {
    "id": "zms12Yq5n-jE"
   },
   "outputs": [
    {
     "name": "stdout",
     "output_type": "stream",
     "text": [
      "Unique Values in Titles Dataset:\n",
      "\n"
     ]
    },
    {
     "data": {
      "text/plain": [
       "id                      9868\n",
       "title                   9737\n",
       "type                       2\n",
       "description             9734\n",
       "release_year             110\n",
       "age_certification         11\n",
       "runtime                  207\n",
       "genres                  2028\n",
       "production_countries     497\n",
       "seasons                   32\n",
       "imdb_id                 9201\n",
       "imdb_score                86\n",
       "imdb_votes              3650\n",
       "tmdb_popularity         5325\n",
       "tmdb_score                89\n",
       "dtype: int64"
      ]
     },
     "metadata": {},
     "output_type": "display_data"
    },
    {
     "name": "stdout",
     "output_type": "stream",
     "text": [
      "\n",
      "Unique Values in Credits Dataset:\n",
      "\n"
     ]
    },
    {
     "data": {
      "text/plain": [
       "person_id    80508\n",
       "id            8861\n",
       "name         79758\n",
       "character    71097\n",
       "role             2\n",
       "dtype: int64"
      ]
     },
     "metadata": {},
     "output_type": "display_data"
    }
   ],
   "source": [
    "print(\"Unique Values in Titles Dataset:\\n\")\n",
    "display(titles_df.nunique())\n",
    "\n",
    "print(\"\\nUnique Values in Credits Dataset:\\n\")\n",
    "display(credits_df.nunique())\n"
   ]
  },
  {
   "cell_type": "markdown",
   "metadata": {
    "id": "dauF4eBmngu3"
   },
   "source": [
    "## 3. ***Data Wrangling***"
   ]
  },
  {
   "cell_type": "markdown",
   "metadata": {
    "id": "bKJF3rekwFvQ"
   },
   "source": [
    "### Data Wrangling Code"
   ]
  },
  {
   "cell_type": "code",
   "execution_count": 22,
   "metadata": {
    "id": "wk-9a2fpoLcV"
   },
   "outputs": [],
   "source": [
    "# 1. Remove Duplicates\n",
    "titles_df = titles_df.drop_duplicates()\n",
    "credits_df = credits_df.drop_duplicates()\n",
    "\n",
    "# 2. Handle Missing Values\n",
    "# Drop rows with critical missing values\n",
    "if 'title' in titles_df.columns and 'release_year' in titles_df.columns:\n",
    "    titles_df = titles_df.dropna(subset=['title', 'release_year'])\n",
    "\n",
    "# Fill optional fields if they exist\n",
    "optional_fill_values = {\n",
    "    'description': 'No description available',\n",
    "    'age_certification': 'Not Rated',\n",
    "    'genres': 'Unknown',\n",
    "    'production_country': 'Unknown',\n",
    "    'seasons': 0\n",
    "}\n",
    "\n",
    "for col, fill_val in optional_fill_values.items():\n",
    "    if col in titles_df.columns:\n",
    "        titles_df[col] = titles_df[col].fillna(fill_val)\n",
    "\n",
    "if 'role' in credits_df.columns:\n",
    "    credits_df['role'] = credits_df['role'].fillna('Unknown')\n",
    "if 'name' in credits_df.columns:\n",
    "    credits_df['name'] = credits_df['name'].fillna('Unnamed')\n",
    "\n",
    "# 3. Convert Data Types\n",
    "if 'release_year' in titles_df.columns:\n",
    "    titles_df['release_year'] = titles_df['release_year'].astype(int)\n",
    "\n",
    "if 'seasons' in titles_df.columns:\n",
    "    titles_df['seasons'] = titles_df['seasons'].astype(int)\n",
    "\n",
    "# 4. Process genres if available\n",
    "if 'genres' in titles_df.columns:\n",
    "    titles_df['genres'] = titles_df['genres'].apply(lambda x: x.split(', ') if isinstance(x, str) else [])\n",
    "\n",
    "# 5. Reset Index\n",
    "titles_df.reset_index(drop=True, inplace=True)\n",
    "credits_df.reset_index(drop=True, inplace=True)\n"
   ]
  },
  {
   "cell_type": "markdown",
   "metadata": {
    "id": "MSa1f5Uengrz"
   },
   "source": [
    "### What all manipulations have you done and insights you found?"
   ]
  },
  {
   "cell_type": "markdown",
   "metadata": {
    "id": "LbyXE7I1olp8"
   },
   "source": [
    "### Data Wrangling Summary and Initial Insights\r\n",
    "\r\n",
    "#### Data Cleaning & Manipulations\r\n",
    "1. **Duplicate Removal**  \r\n",
    "   - Removed duplicate rows from both `titles_df` and `credits_df` to ensure uniqueness and avoid skewed analysis.\r\n",
    "\r\n",
    "2. **Missing Value Handling**  \r\n",
    "   - Dropped rows with missing critical information like `title` and `release_year`.\r\n",
    "   - Filled missing values in optional fields with default placeholders:\r\n",
    "     - `description`: filled with \"No description available\"\r\n",
    "     - `age_certification`: filled with \"Not Rated\"\r\n",
    "     - `genres`: filled with \"Unknown\"\r\n",
    "     - `seasons`: filled with 0\r\n",
    "     - `name` and `role` (in credits): filled with \"Unnamed\" and \"Unknown\" respectively\r\n",
    "\r\n",
    "3. **Data Type Fixes**  \r\n",
    "   - Converted `release_year` and `seasons` to integer type for proper numerical analysis.\r\n",
    "   - Converted `genres` from string to list format for easier filtering and aggregation.\r\n",
    "\r\n",
    "4. **Index Reset**  \r\n",
    "   - Reset indices after cleaning to maintain a tidy DataFrame structure.\r\n",
    "\r\n",
    "---\r\n",
    "\r\n",
    "#### Initial Insights from the Data\r\n",
    "- The dataset contains a mix of **movies and TV shows** with various genres and age ratings.\r\n",
    "- Some titles are missing descriptions or certification, which may reflect either incomplete data or older/foreign releases.\r\n",
    "- The `credits_df` appears to contain crew/cast info connected via the `id` field, which can be joined with `titles_df` for deeper analysis like \"most frequent actor\" or \"top directors\".\r\n",
    "- There is a wide range of release years, suggesting the data spans several decades — useful for time-based trend analysis.\r\n",
    "- The genre information (after splitting) can be used to explore most common genres, genre combinations, andst represented production countries.\r\n",
    "\r\n"
   ]
  },
  {
   "cell_type": "markdown",
   "metadata": {
    "id": "GF8Ens_Soomf"
   },
   "source": [
    "## ***4. Data Vizualization, Storytelling & Experimenting with charts : Understand the relationships between variables***"
   ]
  },
  {
   "cell_type": "markdown",
   "metadata": {
    "id": "0wOQAZs5pc--"
   },
   "source": [
    "#### Chart - 1: Count of Movies vs TV Shows"
   ]
  },
  {
   "cell_type": "code",
   "execution_count": 23,
   "metadata": {
    "id": "7v_ESjsspbW7"
   },
   "outputs": [
    {
     "data": {
      "image/png": "[encoded data removed]",
      "text/plain": [
       "<Figure size 1200x600 with 1 Axes>"
      ]
     },
     "metadata": {},
     "output_type": "display_data"
    }
   ],
   "source": [
    "sns.countplot(data=titles, x='type', palette='Set2')\n",
    "plt.title('Distribution of Show Types')\n",
    "plt.show()"
   ]
  },
  {
   "cell_type": "markdown",
   "metadata": {
    "id": "K5QZ13OEpz2H"
   },
   "source": [
    "##### 1. Why did you pick the specific chart?"
   ]
  },
  {
   "cell_type": "markdown",
   "metadata": {
    "id": "XESiWehPqBRc"
   },
   "source": [
    "A countplot is ideal for visualizing the frequency distribution of categorical variables—in this case, the type of content (Movie or Show). It provides a quick snapshot of the platform's content strategy."
   ]
  },
  {
   "cell_type": "markdown",
   "metadata": {
    "id": "lQ7QKXXCp7Bj"
   },
   "source": [
    "##### 2. What is/are the insight(s) found from the chart?"
   ]
  },
  {
   "cell_type": "markdown",
   "metadata": {
    "id": "C_j1G7yiqdRP"
   },
   "source": [
    "Movies significantly outnumber TV Shows. This implies that Amazon Prime Video currently emphasizes a movie-heavy library."
   ]
  },
  {
   "cell_type": "markdown",
   "metadata": {
    "id": "448CDAPjqfQr"
   },
   "source": [
    "##### 3. Will the gained insights help creating a positive business impact?\n",
    "Are there any insights that lead to negative growth? Justify with specific reason."
   ]
  },
  {
   "cell_type": "markdown",
   "metadata": {
    "id": "3cspy4FjqxJW"
   },
   "source": [
    "Yes. Understanding the content distribution helps guide content acquisition and investment strategy—for example, whether to expand into episodic content if user demand leans that way."
   ]
  },
  {
   "cell_type": "markdown",
   "metadata": {
    "id": "KSlN3yHqYklG"
   },
   "source": [
    "#### Chart - 2 : Top Genres"
   ]
  },
  {
   "cell_type": "code",
   "execution_count": 27,
   "metadata": {
    "id": "R4YgtaqtYklH"
   },
   "outputs": [
    {
     "data": {
      "image/png": "[encoded data removed]",
      "text/plain": [
       "<Figure size 1200x600 with 1 Axes>"
      ]
     },
     "metadata": {},
     "output_type": "display_data"
    }
   ],
   "source": [
    "genres_list = titles['genres'].apply(lambda x: x.strip('[]').replace(\"'\", \"\").split(', '))\n",
    "genres_flat = [g for sublist in genres_list for g in sublist if g.strip() != '']\n",
    "top_genres = pd.DataFrame(Counter(genres_flat).most_common(10), columns=['Genre', 'Count'])\n",
    "sns.barplot(x='Count', y='Genre', data=top_genres, palette='viridis')\n",
    "plt.title('Top 10 Genres')\n",
    "plt.show()"
   ]
  },
  {
   "cell_type": "markdown",
   "metadata": {
    "id": "t6dVpIINYklI"
   },
   "source": [
    "##### 1. Why did you pick the specific chart?"
   ]
  },
  {
   "cell_type": "markdown",
   "metadata": {
    "id": "5aaW0BYyYklI"
   },
   "source": [
    "A barplot is perfect for ranking discrete categories—in this case, genres. It makes it easy to see which genres are most dominant on the platform."
   ]
  },
  {
   "cell_type": "markdown",
   "metadata": {
    "id": "ijmpgYnKYklI"
   },
   "source": [
    "##### 2. What is/are the insight(s) found from the chart?"
   ]
  },
  {
   "cell_type": "markdown",
   "metadata": {
    "id": "PSx9atu2YklI"
   },
   "source": [
    "Top genres include Drama, Comedy, Action, and Thriller. These insights highlight the platform’s focus areas and user preferences."
   ]
  },
  {
   "cell_type": "markdown",
   "metadata": {
    "id": "-JiQyfWJYklI"
   },
   "source": [
    "##### 3. Will the gained insights help creating a positive business impact?\n",
    "Are there any insights that lead to negative growth? Justify with specific reason."
   ]
  },
  {
   "cell_type": "markdown",
   "metadata": {
    "id": "BcBbebzrYklV"
   },
   "source": [
    "Absolutely. Knowing which genres are most prevalent (or successful) can guide future production and licensing decisions. Overreliance on a few genres may limit the platform’s appeal to niche audiences or reduce diversity in content, leading to viewer fatigue or missed opportunities in underrepresented genres."
   ]
  },
  {
   "cell_type": "markdown",
   "metadata": {
    "id": "EM7whBJCYoAo"
   },
   "source": [
    "#### Chart - 3 : IMDb Score Distribution\n"
   ]
  },
  {
   "cell_type": "code",
   "execution_count": 28,
   "metadata": {
    "id": "t6GMdE67YoAp"
   },
   "outputs": [
    {
     "name": "stderr",
     "output_type": "stream",
     "text": [
      "D:\\Anaconda3\\Lib\\site-packages\\seaborn\\_oldcore.py:1119: FutureWarning: use_inf_as_na option is deprecated and will be removed in a future version. Convert inf values to NaN before operating instead.\n",
      "  with pd.option_context('mode.use_inf_as_na', True):\n"
     ]
    },
    {
     "data": {
      "image/png": "[encoded data removed]",
      "text/plain": [
       "<Figure size 1200x600 with 1 Axes>"
      ]
     },
     "metadata": {},
     "output_type": "display_data"
    }
   ],
   "source": [
    "sns.histplot(titles['imdb_score'], bins=20, kde=True, color='skyblue')\n",
    "plt.title('Distribution of IMDb Scores')\n",
    "plt.xlabel('IMDb Score')\n",
    "plt.show()"
   ]
  },
  {
   "cell_type": "markdown",
   "metadata": {
    "id": "fge-S5ZAYoAp"
   },
   "source": [
    "##### 1. Why did you pick the specific chart?"
   ]
  },
  {
   "cell_type": "markdown",
   "metadata": {
    "id": "5dBItgRVYoAp"
   },
   "source": [
    "A histogram with KDE is ideal for understanding how ratings are distributed. It reveals whether most content is well-rated or poorly rated."
   ]
  },
  {
   "cell_type": "markdown",
   "metadata": {
    "id": "85gYPyotYoAp"
   },
   "source": [
    "##### 2. What is/are the insight(s) found from the chart?"
   ]
  },
  {
   "cell_type": "markdown",
   "metadata": {
    "id": "4jstXR6OYoAp"
   },
   "source": [
    "Most titles cluster around IMDb scores of 6 to 7. Only a few are rated extremely high or low."
   ]
  },
  {
   "cell_type": "markdown",
   "metadata": {
    "id": "RoGjAbkUYoAp"
   },
   "source": [
    "##### 3. Will the gained insights help creating a positive business impact?\n",
    "Are there any insights that lead to negative growth? Justify with specific reason."
   ]
  },
  {
   "cell_type": "markdown",
   "metadata": {
    "id": "zfJ8IqMcYoAp"
   },
   "source": [
    "Yes. High average ratings can be used in marketing to build trust. If ratings are poor, the platform can focus on quality improvement in content production.If too many titles have mediocre or poor ratings, it may harm user satisfaction and retention, especially if popular competitors offer better-rated content."
   ]
  },
  {
   "cell_type": "markdown",
   "metadata": {
    "id": "4Of9eVA-YrdM"
   },
   "source": [
    "#### Chart - 4 : Titles Released Over the Years"
   ]
  },
  {
   "cell_type": "code",
   "execution_count": 29,
   "metadata": {
    "id": "irlUoxc8YrdO"
   },
   "outputs": [
    {
     "name": "stderr",
     "output_type": "stream",
     "text": [
      "D:\\Anaconda3\\Lib\\site-packages\\seaborn\\_oldcore.py:1119: FutureWarning: use_inf_as_na option is deprecated and will be removed in a future version. Convert inf values to NaN before operating instead.\n",
      "  with pd.option_context('mode.use_inf_as_na', True):\n",
      "D:\\Anaconda3\\Lib\\site-packages\\seaborn\\_oldcore.py:1119: FutureWarning: use_inf_as_na option is deprecated and will be removed in a future version. Convert inf values to NaN before operating instead.\n",
      "  with pd.option_context('mode.use_inf_as_na', True):\n"
     ]
    },
    {
     "data": {
      "image/png": "[encoded data removed]",
      "text/plain": [
       "<Figure size 1200x600 with 1 Axes>"
      ]
     },
     "metadata": {},
     "output_type": "display_data"
    }
   ],
   "source": [
    "titles_by_year = titles.groupby('release_year').size().reset_index(name='count')\n",
    "sns.lineplot(data=titles_by_year, x='release_year', y='count')\n",
    "plt.title('Titles Released Over Years')\n",
    "plt.xlabel('Release Year')\n",
    "plt.ylabel('Number of Titles')\n",
    "plt.show()"
   ]
  },
  {
   "cell_type": "markdown",
   "metadata": {
    "id": "iky9q4vBYrdO"
   },
   "source": [
    "##### 1. Why did you pick the specific chart?"
   ]
  },
  {
   "cell_type": "markdown",
   "metadata": {
    "id": "aJRCwT6DYrdO"
   },
   "source": [
    "A line chart is best for visualizing changes over time. This chart tracks how content volume has evolved by release year."
   ]
  },
  {
   "cell_type": "markdown",
   "metadata": {
    "id": "F6T5p64dYrdO"
   },
   "source": [
    "##### 2. What is/are the insight(s) found from the chart?"
   ]
  },
  {
   "cell_type": "markdown",
   "metadata": {
    "id": "Xx8WAJvtYrdO"
   },
   "source": [
    "There has been steady growth in the number of titles over the years, with a noticeable spike in recent years—indicating increased investment or licensing."
   ]
  },
  {
   "cell_type": "markdown",
   "metadata": {
    "id": "y-Ehk30pYrdP"
   },
   "source": [
    "##### 3. Will the gained insights help creating a positive business impact?\n",
    "Are there any insights that lead to negative growth? Justify with specific reason."
   ]
  },
  {
   "cell_type": "markdown",
   "metadata": {
    "id": "jLNxxz7MYrdP"
   },
   "source": [
    "Yes. Tracking content release trends helps in forecasting and benchmarking content pipeline strategies. If growth in title count is high but not matched with quality (e.g., ratings or genre diversity), it might indicate quantity over quality, leading to diluted user experience."
   ]
  },
  {
   "cell_type": "markdown",
   "metadata": {
    "id": "bamQiAODYuh1"
   },
   "source": [
    "#### Chart - 5 : Runtime by Type"
   ]
  },
  {
   "cell_type": "code",
   "execution_count": 30,
   "metadata": {
    "id": "TIJwrbroYuh3"
   },
   "outputs": [
    {
     "data": {
      "image/png": "[encoded data removed]",
      "text/plain": [
       "<Figure size 1200x600 with 1 Axes>"
      ]
     },
     "metadata": {},
     "output_type": "display_data"
    }
   ],
   "source": [
    "sns.boxplot(data=titles, x='type', y='runtime', palette='pastel')\n",
    "plt.title('Runtime Distribution by Show Type')\n",
    "plt.show()"
   ]
  },
  {
   "cell_type": "markdown",
   "metadata": {
    "id": "QHF8YVU7Yuh3"
   },
   "source": [
    "##### 1. Why did you pick the specific chart?"
   ]
  },
  {
   "cell_type": "markdown",
   "metadata": {
    "id": "dcxuIMRPYuh3"
   },
   "source": [
    "A boxplot is the best tool for visualizing distribution, median, and outliers in numerical data across categories. Here, it compares movie vs. show runtimes."
   ]
  },
  {
   "cell_type": "markdown",
   "metadata": {
    "id": "GwzvFGzlYuh3"
   },
   "source": [
    "##### 2. What is/are the insight(s) found from the chart?"
   ]
  },
  {
   "cell_type": "markdown",
   "metadata": {
    "id": "uyqkiB8YYuh3"
   },
   "source": [
    "TV Shows typically have lower runtimes (per episode), while movies show a wider and higher range.\n",
    "There are many outliers on both ends, especially for movies."
   ]
  },
  {
   "cell_type": "markdown",
   "metadata": {
    "id": "qYpmQ266Yuh3"
   },
   "source": [
    "##### 3. Will the gained insights help creating a positive business impact?\n",
    "Are there any insights that lead to negative growth? Justify with specific reason."
   ]
  },
  {
   "cell_type": "markdown",
   "metadata": {
    "id": "_WtzZ_hCYuh4"
   },
   "source": [
    "Yes. Understanding runtime preferences helps optimize content length, catering to attention spans (e.g., short-form vs. long-form content). If too many titles fall into extreme runtime ranges, it could alienate viewers looking for standard-length content, especially on mobile."
   ]
  },
  {
   "cell_type": "markdown",
   "metadata": {
    "id": "OH-pJp9IphqM"
   },
   "source": [
    "#### Chart - 6 : Top Actors"
   ]
  },
  {
   "cell_type": "code",
   "execution_count": 31,
   "metadata": {
    "id": "kuRf4wtuphqN"
   },
   "outputs": [
    {
     "data": {
      "image/png": "[encoded data removed]",
      "text/plain": [
       "<Figure size 1200x600 with 1 Axes>"
      ]
     },
     "metadata": {},
     "output_type": "display_data"
    }
   ],
   "source": [
    "top_actors = credits[credits['role'] == 'ACTOR']['name'].value_counts().head(10)\n",
    "sns.barplot(x=top_actors.values, y=top_actors.index, palette='cubehelix')\n",
    "plt.title('Top 10 Most Frequent Actors')\n",
    "plt.xlabel('Number of Titles')\n",
    "plt.show()"
   ]
  },
  {
   "cell_type": "markdown",
   "metadata": {
    "id": "bbFf2-_FphqN"
   },
   "source": [
    "##### 1. Why did you pick the specific chart?"
   ]
  },
  {
   "cell_type": "markdown",
   "metadata": {
    "id": "loh7H2nzphqN"
   },
   "source": [
    "A barplot is ideal for ranking frequency—here, it's used to identify actors who appear most frequently across titles."
   ]
  },
  {
   "cell_type": "markdown",
   "metadata": {
    "id": "_ouA3fa0phqN"
   },
   "source": [
    "##### 2. What is/are the insight(s) found from the chart?"
   ]
  },
  {
   "cell_type": "markdown",
   "metadata": {
    "id": "VECbqPI7phqN"
   },
   "source": [
    "A handful of actors appear far more frequently, indicating star power or contractual partnerships with Amazon Prime."
   ]
  },
  {
   "cell_type": "markdown",
   "metadata": {
    "id": "Seke61FWphqN"
   },
   "source": [
    "##### 3. Will the gained insights help creating a positive business impact?\n",
    "Are there any insights that lead to negative growth? Justify with specific reason."
   ]
  },
  {
   "cell_type": "markdown",
   "metadata": {
    "id": "DW4_bGpfphqN"
   },
   "source": [
    "Yes. Frequent actors can be leveraged in promotions or user recommendations to drive watch time. Overusing the same actors could lead to brand fatigue or limit diversity in casting, potentially alienating parts of the audience."
   ]
  },
  {
   "cell_type": "markdown",
   "metadata": {
    "id": "PIIx-8_IphqN"
   },
   "source": [
    "#### Chart - 7 : Top Directors"
   ]
  },
  {
   "cell_type": "code",
   "execution_count": 33,
   "metadata": {
    "id": "lqAIGUfyphqO"
   },
   "outputs": [
    {
     "data": {
      "image/png": "[encoded data removed]",
      "text/plain": [
       "<Figure size 1200x600 with 1 Axes>"
      ]
     },
     "metadata": {},
     "output_type": "display_data"
    }
   ],
   "source": [
    "top_directors = credits[credits['role'] == 'DIRECTOR']['name'].value_counts().head(10)\n",
    "sns.barplot(x=top_directors.values, y=top_directors.index, palette='coolwarm')\n",
    "plt.title('Top 10 Most Frequent Directors')\n",
    "plt.xlabel('Number of Titles')\n",
    "plt.show()"
   ]
  },
  {
   "cell_type": "markdown",
   "metadata": {
    "id": "t27r6nlMphqO"
   },
   "source": [
    "##### 1. Why did you pick the specific chart?"
   ]
  },
  {
   "cell_type": "markdown",
   "metadata": {
    "id": "iv6ro40sphqO"
   },
   "source": [
    "Same reasoning as with actors: a barplot is best for highlighting who directs the most content and understanding production trends."
   ]
  },
  {
   "cell_type": "markdown",
   "metadata": {
    "id": "r2jJGEOYphqO"
   },
   "source": [
    "##### 2. What is/are the insight(s) found from the chart?"
   ]
  },
  {
   "cell_type": "markdown",
   "metadata": {
    "id": "Po6ZPi4hphqO"
   },
   "source": [
    "Certain directors have produced a large volume of content, suggesting preferred working relationships or trusted collaborators."
   ]
  },
  {
   "cell_type": "markdown",
   "metadata": {
    "id": "b0JNsNcRphqO"
   },
   "source": [
    "##### 3. Will the gained insights help creating a positive business impact?\n",
    "Are there any insights that lead to negative growth? Justify with specific reason."
   ]
  },
  {
   "cell_type": "markdown",
   "metadata": {
    "id": "xvSq8iUTphqO"
   },
   "source": [
    "Yes. High-output directors can be key to consistent quality and efficiency. Their track record can influence audience trust.\n",
    "Creative monotony could set in if there’s lack of directorial variety or innovation.\n",
    "\n"
   ]
  },
  {
   "cell_type": "markdown",
   "metadata": {
    "id": "BZR9WyysphqO"
   },
   "source": [
    "#### Chart - 8 : Top Production Countries"
   ]
  },
  {
   "cell_type": "code",
   "execution_count": 34,
   "metadata": {
    "id": "TdPTWpAVphqO"
   },
   "outputs": [
    {
     "data": {
      "image/png": "[encoded data removed]",
      "text/plain": [
       "<Figure size 1200x600 with 1 Axes>"
      ]
     },
     "metadata": {},
     "output_type": "display_data"
    }
   ],
   "source": [
    "countries_list = titles['production_countries'].apply(lambda x: x.strip('[]').replace(\"'\", \"\").split(', '))\n",
    "countries_flat = [c.strip() for sublist in countries_list for c in sublist if c.strip() != '']\n",
    "country_counts = pd.Series(countries_flat).value_counts().head(10)\n",
    "sns.barplot(x=country_counts.values, y=country_counts.index, palette='mako')\n",
    "plt.title('Top 10 Production Countries')\n",
    "plt.xlabel('Number of Titles')\n",
    "plt.ylabel('Country')\n",
    "plt.show()"
   ]
  },
  {
   "cell_type": "markdown",
   "metadata": {
    "id": "jj7wYXLtphqO"
   },
   "source": [
    "##### 1. Why did you pick the specific chart?"
   ]
  },
  {
   "cell_type": "markdown",
   "metadata": {
    "id": "Ob8u6rCTphqO"
   },
   "source": [
    "A barplot again helps show the top countries contributing to the content pool—critical for understanding cultural diversity and content origin."
   ]
  },
  {
   "cell_type": "markdown",
   "metadata": {
    "id": "eZrbJ2SmphqO"
   },
   "source": [
    "##### 2. What is/are the insight(s) found from the chart?"
   ]
  },
  {
   "cell_type": "markdown",
   "metadata": {
    "id": "mZtgC_hjphqO"
   },
   "source": [
    "Most content comes from the United States, followed by a few other regions like the UK and India."
   ]
  },
  {
   "cell_type": "markdown",
   "metadata": {
    "id": "rFu4xreNphqO"
   },
   "source": [
    "##### 3. Will the gained insights help creating a positive business impact?\n",
    "Are there any insights that lead to negative growth? Justify with specific reason."
   ]
  },
  {
   "cell_type": "markdown",
   "metadata": {
    "id": "ey_0qi68phqO"
   },
   "source": [
    "Yes. Knowing the content origin helps tailor marketing strategies for regional markets and highlight diversity or local relevance. An overconcentration of content from a few countries might reduce global appeal, particularly in regions with distinct cultural tastes."
   ]
  },
  {
   "cell_type": "markdown",
   "metadata": {
    "id": "YJ55k-q6phqO"
   },
   "source": [
    "#### Chart - 9 : TMDB Popularity (Clipped at 95th Percentile)"
   ]
  },
  {
   "cell_type": "code",
   "execution_count": 35,
   "metadata": {
    "id": "B2aS4O1ophqO"
   },
   "outputs": [
    {
     "name": "stderr",
     "output_type": "stream",
     "text": [
      "D:\\Anaconda3\\Lib\\site-packages\\seaborn\\_oldcore.py:1119: FutureWarning: use_inf_as_na option is deprecated and will be removed in a future version. Convert inf values to NaN before operating instead.\n",
      "  with pd.option_context('mode.use_inf_as_na', True):\n"
     ]
    },
    {
     "data": {
      "image/png": "[encoded data removed]",
      "text/plain": [
       "<Figure size 1200x600 with 1 Axes>"
      ]
     },
     "metadata": {},
     "output_type": "display_data"
    }
   ],
   "source": [
    "popularity_clipped = titles[titles['tmdb_popularity'] < titles['tmdb_popularity'].quantile(0.95)]\n",
    "sns.histplot(popularity_clipped['tmdb_popularity'], bins=30, kde=True, color='orange')\n",
    "plt.title('Distribution of TMDB Popularity Scores (Clipped at 95th Percentile)')\n",
    "plt.xlabel('TMDB Popularity')\n",
    "plt.show()"
   ]
  },
  {
   "cell_type": "markdown",
   "metadata": {
    "id": "gCFgpxoyphqP"
   },
   "source": [
    "##### 1. Why did you pick the specific chart?"
   ]
  },
  {
   "cell_type": "markdown",
   "metadata": {
    "id": "TVxDimi2phqP"
   },
   "source": [
    "A histogram (with clipping) gives a clearer view of how most titles perform without being skewed by extreme values. As the raw popularity scores (like tmdb_popularity) have extreme outliers, a small number of titles (like major blockbusters) with very high popularity that skew the entire distribution. Clipping at the 95th percentile removes the top 5% of extreme values (the outliers) normalizes the scale of the chart and helps you visualize the distribution of the remaining 95% of titles more clearly. This makes insights about typical or mid-tier titles more visible and actionable."
   ]
  },
  {
   "cell_type": "markdown",
   "metadata": {
    "id": "OVtJsKN_phqQ"
   },
   "source": [
    "##### 2. What is/are the insight(s) found from the chart?"
   ]
  },
  {
   "cell_type": "markdown",
   "metadata": {
    "id": "ngGi97qjphqQ"
   },
   "source": [
    "Most titles have low to moderate popularity. A small number dominate the top percentiles."
   ]
  },
  {
   "cell_type": "markdown",
   "metadata": {
    "id": "lssrdh5qphqQ"
   },
   "source": [
    "##### 3. Will the gained insights help creating a positive business impact?\n",
    "Are there any insights that lead to negative growth? Justify with specific reason."
   ]
  },
  {
   "cell_type": "markdown",
   "metadata": {
    "id": "tBpY5ekJphqQ"
   },
   "source": [
    "Yes. It shows that most content needs more promotion or better placement, while the top 5% can be emphasized in marketing strategies. If a large majority of titles remain under-viewed, it signals possible content discovery issues or poor engagement, which may lead to content wastage."
   ]
  },
  {
   "cell_type": "markdown",
   "metadata": {
    "id": "8agQvks0phqQ"
   },
   "source": [
    "Answer Here."
   ]
  },
  {
   "cell_type": "markdown",
   "metadata": {
    "id": "Qp13pnNzphqQ"
   },
   "source": [
    "Answer Here"
   ]
  },
  {
   "cell_type": "markdown",
   "metadata": {
    "id": "R4Ka1PC2phqR"
   },
   "source": [
    "Answer Here"
   ]
  },
  {
   "cell_type": "markdown",
   "metadata": {
    "id": "JcMwzZxoAimU"
   },
   "source": [
    "## **5. Solution to Business Objective**"
   ]
  },
  {
   "cell_type": "markdown",
   "metadata": {
    "id": "8G2x9gOozGDZ"
   },
   "source": [
    "#### What do you suggest the client to achieve Business Objective ?\n",
    "Explain Briefly."
   ]
  },
  {
   "cell_type": "markdown",
   "metadata": {
    "id": "pASKb0qOza21"
   },
   "source": [
    "### My Business Recommendation \n",
    "\r",
    "1. **Balance Content Types**  \r\n",
    "   Increase TV show offerings to boost long-term engagement and retention.\r\n",
    "\r\n",
    "2. **Diversify Genres**  \r\n",
    "   Expand into underrepresented genres to attract niche audiences and reduce content fatigue.\r\n",
    "\r\n",
    "3. **Promote Hidden Gems**  \r\n",
    "   Improve discovery of lesser-known, quality titles using better recommendations and curation.\r\n",
    "\r\n",
    "4. **Leverage Popular Talent**  \r\n",
    "   Use frequent actors/directors in marketing to drive familiarity and viewership.\r\n",
    "\r\n",
    "5. **Expand Global Reach**  \r\n",
    "   Invest in localized content and regional partnerships to grow international audience share.\r\n",
    "\r\n",
    "These strategies can help improve content impact, user satisfaction, and overall platform growth.l platform growth.\r\n"
   ]
  },
  {
   "cell_type": "markdown",
   "metadata": {
    "id": "gCX9965dhzqZ"
   },
   "source": [
    "# **Conclusion**"
   ]
  },
  {
   "cell_type": "markdown",
   "metadata": {
    "id": "Fjb1IsQkh3yE"
   },
   "source": [
    "\r\n",
    "This exploratory data analysis provided key insights into Amazon Prime Video’s content strategy, including the dominance of movies, popular genres, frequently featured talent, and distribution of content quality. \r\n",
    "\r\n",
    "The findings highlight areas of strength—such as consistent genre offerings and star collaborations—as well as opportunities for growth in content diversity, show development, and regional expansion.\r\n",
    "\r\n",
    "These insights can guide data-driven decisions to enhance viewer engagement, improve content curation, and support strategic planning for sustainable business growth.\r\n"
   ]
  },
  {
   "cell_type": "markdown",
   "metadata": {
    "id": "gIfDvo9L0UH2"
   },
   "source": [
    "### ***Hurrah! You have successfully completed your EDA Capstone Project !!!***"
   ]
  },
  {
   "cell_type": "code",
   "execution_count": null,
   "metadata": {
    "id": "dYX880etpL0x"
   },
   "outputs": [],
   "source": []
  },
  {
   "cell_type": "code",
   "execution_count": null,
   "metadata": {
    "id": "-6Vl263upPVI"
   },
   "outputs": [],
   "source": []
  }
 ],
 "metadata": {
  "colab": {
   "collapsed_sections": [
    "vncDsAP0Gaoa",
    "FJNUwmbgGyua",
    "w6K7xa23Elo4",
    "yQaldy8SH6Dl",
    "PH-0ReGfmX4f",
    "mDgbUHAGgjLW",
    "O_i_v8NEhb9l",
    "HhfV-JJviCcP",
    "Y3lxredqlCYt",
    "3RnN4peoiCZX",
    "x71ZqKXriCWQ",
    "7hBIi_osiCS2",
    "JlHwYmJAmNHm",
    "35m5QtbWiB9F",
    "PoPl-ycgm1ru",
    "H0kj-8xxnORC",
    "nA9Y7ga8ng1Z",
    "PBTbrJXOngz2",
    "u3PMJOP6ngxN",
    "dauF4eBmngu3",
    "bKJF3rekwFvQ",
    "MSa1f5Uengrz",
    "GF8Ens_Soomf",
    "0wOQAZs5pc--",
    "K5QZ13OEpz2H",
    "lQ7QKXXCp7Bj",
    "448CDAPjqfQr",
    "KSlN3yHqYklG",
    "t6dVpIINYklI",
    "ijmpgYnKYklI",
    "-JiQyfWJYklI",
    "EM7whBJCYoAo",
    "fge-S5ZAYoAp",
    "85gYPyotYoAp",
    "RoGjAbkUYoAp",
    "4Of9eVA-YrdM",
    "iky9q4vBYrdO",
    "F6T5p64dYrdO",
    "y-Ehk30pYrdP",
    "bamQiAODYuh1",
    "QHF8YVU7Yuh3",
    "GwzvFGzlYuh3",
    "qYpmQ266Yuh3",
    "OH-pJp9IphqM",
    "bbFf2-_FphqN",
    "_ouA3fa0phqN",
    "Seke61FWphqN",
    "PIIx-8_IphqN",
    "t27r6nlMphqO",
    "r2jJGEOYphqO",
    "b0JNsNcRphqO",
    "BZR9WyysphqO",
    "jj7wYXLtphqO",
    "eZrbJ2SmphqO",
    "rFu4xreNphqO",
    "YJ55k-q6phqO",
    "gCFgpxoyphqP",
    "OVtJsKN_phqQ",
    "lssrdh5qphqQ",
    "U2RJ9gkRphqQ",
    "1M8mcRywphqQ",
    "tgIPom80phqQ",
    "JMzcOPDDphqR",
    "x-EpHcCOp1ci",
    "X_VqEhTip1ck",
    "8zGJKyg5p1ck",
    "PVzmfK_Ep1ck",
    "n3dbpmDWp1ck",
    "ylSl6qgtp1ck",
    "ZWILFDl5p1ck",
    "M7G43BXep1ck",
    "Ag9LCva-p1cl",
    "E6MkPsBcp1cl",
    "2cELzS2fp1cl",
    "3MPXvC8up1cl",
    "NC_X3p0fY2L0",
    "UV0SzAkaZNRQ",
    "YPEH6qLeZNRQ",
    "q29F0dvdveiT",
    "EXh0U9oCveiU",
    "22aHeOlLveiV",
    "JcMwzZxoAimU",
    "8G2x9gOozGDZ",
    "gCX9965dhzqZ",
    "gIfDvo9L0UH2"
   ],
   "private_outputs": true,
   "provenance": []
  },
  "kernelspec": {
   "display_name": "Python 3 (ipykernel)",
   "language": "python",
   "name": "python3"
  },
  "language_info": {
   "codemirror_mode": {
    "name": "ipython",
    "version": 3
   },
   "file_extension": ".py",
   "mimetype": "text/x-python",
   "name": "python",
   "nbconvert_exporter": "python",
   "pygments_lexer": "ipython3",
   "version": "3.11.7"
  }
 },
 "nbformat": 4,
 "nbformat_minor": 4
}
